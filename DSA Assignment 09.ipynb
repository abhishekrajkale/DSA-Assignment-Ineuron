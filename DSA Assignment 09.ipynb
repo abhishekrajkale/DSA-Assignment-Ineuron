{
 "cells": [
  {
   "cell_type": "markdown",
   "id": "758a6158",
   "metadata": {},
   "source": [
    "# Assignment 9 - Recursion "
   ]
  },
  {
   "cell_type": "markdown",
   "id": "8d9cf474",
   "metadata": {},
   "source": [
    "**Question 1**\n",
    "\n",
    "Given an integer `n`, return *`true` if it is a power of two. Otherwise, return `false`*.\n",
    "\n",
    "An integer `n` is a power of two, if there exists an integer `x` such that `n == 2x`.\n",
    "\n",
    "**Example 1:**\n",
    "Input: n = 1 \n",
    "\n",
    "Output: true\n",
    "\n",
    "**Example 2:**\n",
    "Input: n = 16 \n",
    "\n",
    "Output: true\n",
    "\n",
    "**Example 3:**\n",
    "Input: n = 3 \n",
    "\n",
    "Output: false\n"
   ]
  },
  {
   "cell_type": "code",
   "execution_count": 1,
   "id": "14ef6308",
   "metadata": {},
   "outputs": [
    {
     "name": "stdout",
     "output_type": "stream",
     "text": [
      "True\n"
     ]
    }
   ],
   "source": [
    "n = 1\n",
    "class Solution:\n",
    "    def isPowerOfTwo(self, n: int) -> bool:\n",
    "        if n == 0:\n",
    "            return False\n",
    "        while n % 2 == 0:\n",
    "            n //= 2\n",
    "        return n == 1\n",
    "solution = Solution()\n",
    "print(solution.isPowerOfTwo(n))"
   ]
  },
  {
   "cell_type": "code",
   "execution_count": 2,
   "id": "f2c8058b",
   "metadata": {},
   "outputs": [
    {
     "name": "stdout",
     "output_type": "stream",
     "text": [
      "True\n"
     ]
    }
   ],
   "source": [
    "n = 16\n",
    "class Solution:\n",
    "    def isPowerOfTwo(self, n: int) -> bool:\n",
    "        if n == 0:\n",
    "            return False\n",
    "        while n % 2 == 0:\n",
    "            n //= 2\n",
    "        return n == 1\n",
    "\n",
    "solution = Solution()\n",
    "print(solution.isPowerOfTwo(n))"
   ]
  },
  {
   "cell_type": "code",
   "execution_count": 3,
   "id": "33bb5ce0",
   "metadata": {},
   "outputs": [
    {
     "name": "stdout",
     "output_type": "stream",
     "text": [
      "False\n"
     ]
    }
   ],
   "source": [
    "n = 3\n",
    "class Solution:\n",
    "    def isPowerOfTwo(self, n: int) -> bool:\n",
    "        if n == 0:\n",
    "            return False\n",
    "        while n % 2 == 0:\n",
    "            n //= 2\n",
    "        return n == 1\n",
    "solution = Solution()\n",
    "print(solution.isPowerOfTwo(n))"
   ]
  },
  {
   "cell_type": "markdown",
   "id": "74e86f35",
   "metadata": {},
   "source": [
    "**Question 2**\n",
    "\n",
    "Given a number n, find the sum of the first natural numbers.\n",
    "\n",
    "**Example 1:**\n",
    "\n",
    "Input: n = 3 \n",
    "\n",
    "Output: 6\n",
    "\n",
    "**Example 2:**\n",
    "\n",
    "Input  : 5 \n",
    "\n",
    "Output : 15\n"
   ]
  },
  {
   "cell_type": "code",
   "execution_count": 4,
   "id": "debbe0ec",
   "metadata": {},
   "outputs": [
    {
     "name": "stdout",
     "output_type": "stream",
     "text": [
      "6\n"
     ]
    }
   ],
   "source": [
    "n = 3\n",
    "class Solution:\n",
    "    def sumOfFirstN(self, n: int) -> int:\n",
    "        return (n * (n + 1)) // 2\n",
    "    \n",
    "\n",
    "solution = Solution()\n",
    "print(solution.sumOfFirstN(n))"
   ]
  },
  {
   "cell_type": "code",
   "execution_count": 5,
   "id": "5a47b452",
   "metadata": {},
   "outputs": [
    {
     "name": "stdout",
     "output_type": "stream",
     "text": [
      "15\n"
     ]
    }
   ],
   "source": [
    "n = 5\n",
    "class Solution:\n",
    "    def sumOfFirstN(self, n: int) -> int:\n",
    "        return (n * (n + 1)) // 2\n",
    "    \n",
    "\n",
    "solution = Solution()\n",
    "print(solution.sumOfFirstN(n))"
   ]
  },
  {
   "cell_type": "markdown",
   "id": "3358452a",
   "metadata": {},
   "source": [
    "**Question 3**\n",
    "\n",
    "Given a positive integer, N. Find the factorial of N. \n",
    "\n",
    "**Example 1:**\n",
    "\n",
    "Input: N = 5 \n",
    "\n",
    "Output: 120\n",
    "\n",
    "**Example 2:**\n",
    "\n",
    "Input: N = 4\n",
    "\n",
    "Output: 24\n"
   ]
  },
  {
   "cell_type": "code",
   "execution_count": 6,
   "id": "779a8d2b",
   "metadata": {},
   "outputs": [
    {
     "name": "stdout",
     "output_type": "stream",
     "text": [
      "120\n"
     ]
    }
   ],
   "source": [
    "N = 5\n",
    "class Solution:\n",
    "    def factorial(self, N: int) -> int:\n",
    "        result = 1\n",
    "        for i in range(1, N + 1):\n",
    "            result *= i\n",
    "        return result\n",
    "    \n",
    "solution = Solution()\n",
    "print(solution.factorial(N))    "
   ]
  },
  {
   "cell_type": "code",
   "execution_count": 7,
   "id": "c5a84f49",
   "metadata": {},
   "outputs": [
    {
     "name": "stdout",
     "output_type": "stream",
     "text": [
      "24\n"
     ]
    }
   ],
   "source": [
    "N = 4\n",
    "class Solution:\n",
    "    def factorial(self, N: int) -> int:\n",
    "        result = 1\n",
    "        for i in range(1, N + 1):\n",
    "            result *= i\n",
    "        return result\n",
    "    \n",
    "solution = Solution()\n",
    "print(solution.factorial(N))  "
   ]
  },
  {
   "cell_type": "markdown",
   "id": "07ecf4c6",
   "metadata": {},
   "source": [
    "**Question 4**\n",
    "\n",
    "Given a number N and a power P, the task is to find the exponent of this number raised to the given power, i.e. N^P.\n",
    "\n",
    "**Example 1 :** \n",
    "\n",
    "Input: N = 5, P = 2\n",
    "\n",
    "Output: 25\n",
    "\n",
    "**Example 2 :**\n",
    "Input: N = 2, P = 5\n",
    "\n",
    "Output: 32\n"
   ]
  },
  {
   "cell_type": "code",
   "execution_count": 8,
   "id": "65227bb4",
   "metadata": {},
   "outputs": [
    {
     "name": "stdout",
     "output_type": "stream",
     "text": [
      "25\n"
     ]
    }
   ],
   "source": [
    "N = 5\n",
    "P = 2\n",
    "class Solution:\n",
    "    def power(self, N: int, P: int) -> int:\n",
    "        return N ** P\n",
    "    \n",
    "solution = Solution()\n",
    "print(solution.power(N, P))"
   ]
  },
  {
   "cell_type": "code",
   "execution_count": 9,
   "id": "9e5c2cf6",
   "metadata": {},
   "outputs": [
    {
     "name": "stdout",
     "output_type": "stream",
     "text": [
      "32\n"
     ]
    }
   ],
   "source": [
    "N = 2\n",
    "P = 5\n",
    "class Solution:\n",
    "    def power(self, N: int, P: int) -> int:\n",
    "        return N ** P\n",
    "    \n",
    "solution = Solution()\n",
    "print(solution.power(N, P))"
   ]
  },
  {
   "cell_type": "markdown",
   "id": "88c405a5",
   "metadata": {},
   "source": [
    "**Question 5**\n",
    "\n",
    "Given an array of integers **arr**, the task is to find maximum element of that array using recursion.\n",
    "\n",
    "**Example 1:**\n",
    "\n",
    "Input: arr = {1, 4, 3, -5, -4, 8, 6};\n",
    "Output: 8\n",
    "\n",
    "**Example 2:**\n",
    "\n",
    "Input: arr = {1, 4, 45, 6, 10, -8};\n",
    "Output: 45\n"
   ]
  },
  {
   "cell_type": "code",
   "execution_count": 10,
   "id": "35d43fe0",
   "metadata": {},
   "outputs": [
    {
     "name": "stdout",
     "output_type": "stream",
     "text": [
      "8\n"
     ]
    }
   ],
   "source": [
    "class Solution:\n",
    "    def findMax(self, arr: list[int], index: int) -> int:\n",
    "        if index == len(arr) - 1:\n",
    "            return arr[index]\n",
    "        else:\n",
    "            current_element = arr[index]\n",
    "            max_from_rest = self.findMax(arr, index + 1)\n",
    "            return max(current_element, max_from_rest)\n",
    "        \n",
    "arr = [1, 4, 3, -5, -4, 8, 6]\n",
    "solution = Solution()\n",
    "print(solution.findMax(arr, 0))"
   ]
  },
  {
   "cell_type": "code",
   "execution_count": 11,
   "id": "14eb2362",
   "metadata": {},
   "outputs": [
    {
     "name": "stdout",
     "output_type": "stream",
     "text": [
      "45\n"
     ]
    }
   ],
   "source": [
    "class Solution:\n",
    "    def findMax(self, arr: list[int], index: int) -> int:\n",
    "        if index == len(arr) - 1:\n",
    "            return arr[index]\n",
    "        else:\n",
    "            current_element = arr[index]\n",
    "            max_from_rest = self.findMax(arr, index + 1)\n",
    "            return max(current_element, max_from_rest)\n",
    "arr = [1, 4, 45, 6, 10, -8]\n",
    "solution = Solution()\n",
    "print(solution.findMax(arr, 0))\n",
    "        "
   ]
  },
  {
   "cell_type": "markdown",
   "id": "d515c582",
   "metadata": {},
   "source": [
    "**Question 6**\n",
    "\n",
    "Given first term (a), common difference (d) and a integer N of the Arithmetic Progression series, the task is to find Nth term of the series.\n",
    "\n",
    "**Example 1:**\n",
    "\n",
    "Input : a = 2 d = 1 N = 5\n",
    "Output : 6\n",
    "The 5th term of the series is : 6\n",
    "\n",
    "**Example 2:**\n",
    "\n",
    "Input : a = 5 d = 2 N = 10\n",
    "Output : 23\n",
    "The 10th term of the series is : 23\n",
    "\n",
    "</aside>"
   ]
  },
  {
   "cell_type": "code",
   "execution_count": 12,
   "id": "73f024b9",
   "metadata": {},
   "outputs": [
    {
     "name": "stdout",
     "output_type": "stream",
     "text": [
      "6\n"
     ]
    }
   ],
   "source": [
    "a = 2\n",
    "d = 1\n",
    "N = 5\n",
    "class Solution:\n",
    "    def findNthTerm(self, a: int, d: int, N: int) -> int:\n",
    "        return a + (N - 1) * d\n",
    "    \n",
    "solution = Solution()\n",
    "print(solution.findNthTerm(a, d, N)) \n"
   ]
  },
  {
   "cell_type": "code",
   "execution_count": 13,
   "id": "6ea55b1f",
   "metadata": {},
   "outputs": [
    {
     "name": "stdout",
     "output_type": "stream",
     "text": [
      "23\n"
     ]
    }
   ],
   "source": [
    "a = 5\n",
    "d = 2\n",
    "N = 10\n",
    "class Solution:\n",
    "    def findNthTerm(self, a: int, d: int, N: int) -> int:\n",
    "        return a + (N - 1) * d\n",
    "    \n",
    "solution = Solution()\n",
    "print(solution.findNthTerm(a, d, N)) "
   ]
  },
  {
   "cell_type": "markdown",
   "id": "ff274859",
   "metadata": {},
   "source": [
    "**Question 7**\n",
    "\n",
    "Given a string S, the task is to write a program to print all permutations of a given string.\n",
    "\n",
    "**Example 1:**\n",
    "\n",
    "***Input:***\n",
    "\n",
    "*S = “ABC”*\n",
    "\n",
    "***Output:***\n",
    "\n",
    "*“ABC”, “ACB”, “BAC”, “BCA”, “CBA”, “CAB”*\n",
    "\n",
    "**Example 2:**\n",
    "\n",
    "***Input:***\n",
    "\n",
    "*S = “XY”*\n",
    "\n",
    "***Output:***\n",
    "\n",
    "*“XY”, “YX”*\n"
   ]
  },
  {
   "cell_type": "code",
   "execution_count": 14,
   "id": "6791543d",
   "metadata": {},
   "outputs": [
    {
     "name": "stdout",
     "output_type": "stream",
     "text": [
      "['ABC', 'ACB', 'BAC', 'BCA', 'CAB', 'CBA']\n"
     ]
    }
   ],
   "source": [
    "from itertools import permutations\n",
    "s = \"ABC\"\n",
    "class Solution:\n",
    "    def permute(self, s: str) -> list[str]:\n",
    "        return [\"\".join(perm) for perm in permutations(s)]\n",
    "    \n",
    "solution = Solution()\n",
    "permutations = solution.permute(s)\n",
    "print(permutations)"
   ]
  },
  {
   "cell_type": "code",
   "execution_count": 15,
   "id": "2be8aaf5",
   "metadata": {},
   "outputs": [
    {
     "name": "stdout",
     "output_type": "stream",
     "text": [
      "['XY', 'YX']\n"
     ]
    }
   ],
   "source": [
    "from itertools import permutations\n",
    "s = \"XY\"\n",
    "class Solution:\n",
    "    def permute(self, s: str) -> list[str]:\n",
    "        return [\"\".join(perm) for perm in permutations(s)]\n",
    "    \n",
    "solution = Solution()\n",
    "permutations = solution.permute(s)\n",
    "print(permutations)"
   ]
  },
  {
   "cell_type": "markdown",
   "id": "6c894d58",
   "metadata": {},
   "source": [
    "**Question 8**\n",
    "\n",
    "Given an array, find a product of all array elements.\n",
    "\n",
    "**Example 1:**\n",
    "\n",
    "Input  : arr[] = {1, 2, 3, 4, 5}\n",
    "Output : 120\n",
    "**Example 2:**\n",
    "\n",
    "Input  : arr[] = {1, 6, 3}\n",
    "Output : 18\n",
    "\n",
    "</aside>"
   ]
  },
  {
   "cell_type": "code",
   "execution_count": 16,
   "id": "84ef99ea",
   "metadata": {},
   "outputs": [
    {
     "name": "stdout",
     "output_type": "stream",
     "text": [
      "120\n"
     ]
    }
   ],
   "source": [
    "arr = [1, 2, 3, 4, 5]\n",
    "class Solution:\n",
    "    def arrayProduct(self, arr: list[int]) -> int:\n",
    "        product = 1\n",
    "        for num in arr:\n",
    "            product *= num\n",
    "        return product\n",
    "    \n",
    "solution = Solution()\n",
    "print(solution.arrayProduct(arr))"
   ]
  },
  {
   "cell_type": "code",
   "execution_count": 17,
   "id": "d4ff805a",
   "metadata": {},
   "outputs": [
    {
     "name": "stdout",
     "output_type": "stream",
     "text": [
      "18\n"
     ]
    }
   ],
   "source": [
    "arr = [1, 6,3]\n",
    "class Solution:\n",
    "    def arrayProduct(self, arr: list[int]) -> int:\n",
    "        product = 1\n",
    "        for num in arr:\n",
    "            product *= num\n",
    "        return product\n",
    "    \n",
    "solution = Solution()\n",
    "print(solution.arrayProduct(arr))"
   ]
  },
  {
   "cell_type": "code",
   "execution_count": null,
   "id": "9c5e3ed3",
   "metadata": {},
   "outputs": [],
   "source": []
  }
 ],
 "metadata": {
  "kernelspec": {
   "display_name": "Python 3 (ipykernel)",
   "language": "python",
   "name": "python3"
  },
  "language_info": {
   "codemirror_mode": {
    "name": "ipython",
    "version": 3
   },
   "file_extension": ".py",
   "mimetype": "text/x-python",
   "name": "python",
   "nbconvert_exporter": "python",
   "pygments_lexer": "ipython3",
   "version": "3.9.7"
  }
 },
 "nbformat": 4,
 "nbformat_minor": 5
}
