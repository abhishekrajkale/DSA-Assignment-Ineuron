{
 "cells": [
  {
   "cell_type": "markdown",
   "id": "1deb3fd6",
   "metadata": {},
   "source": [
    "## Assignment 11 - Binary Search"
   ]
  },
  {
   "cell_type": "markdown",
   "id": "79e87338",
   "metadata": {},
   "source": [
    "### Question 1 Given a non-negative integer `x`, return *the square root of* `x` *rounded down to the nearest integer*. The returned integer should be **non-negative** as well.\n",
    "\n",
    "You **must not use** any built-in exponent function or operator.\n",
    "\n",
    "- For example, do not use `pow(x, 0.5)` in c++ or `x ** 0.5` in python.\n",
    "\n",
    "**Example 1:**\n",
    "```\n",
    "Input: x = 4\n",
    "Output: 2\n",
    "Explanation: The square root of 4 is 2, so we return 2.\n",
    "```\n",
    "\n",
    "**Example 2:**\n",
    "```\n",
    "Input: x = 8\n",
    "Output: 2\n",
    "Explanation: The square root of 8 is 2.82842..., and since we round it down to the nearest integer, 2 is returned.\n",
    "```"
   ]
  },
  {
   "cell_type": "code",
   "execution_count": 3,
   "id": "56b20239",
   "metadata": {},
   "outputs": [
    {
     "name": "stdout",
     "output_type": "stream",
     "text": [
      "2\n",
      "2\n"
     ]
    }
   ],
   "source": [
    "def mySqrt(x):\n",
    "    if x == 0:\n",
    "        return 0\n",
    "    \n",
    "    left, right = 1, x\n",
    "    while left <= right:\n",
    "        mid = left + (right - left) // 2\n",
    "        if mid * mid == x:\n",
    "            return mid\n",
    "        elif mid * mid < x:\n",
    "            left = mid + 1\n",
    "        else:\n",
    "            right = mid - 1\n",
    "    return right\n",
    "\n",
    "print(mySqrt(4))\n",
    "print(mySqrt(8))"
   ]
  },
  {
   "cell_type": "markdown",
   "id": "1e0fea6a",
   "metadata": {},
   "source": [
    "### Question 2A peak element is an element that is strictly greater than its neighbors. \n",
    "Given a **0-indexed** integer array `nums`, find a peak element, and return its index. If the array contains multiple peaks, return the index to **any of the peaks**.\n",
    "\n",
    "You may imagine that `nums[-1] = nums[n] = -∞`. In other words, an element is always considered to be strictly greater than a neighbor that is outside the array.\n",
    "\n",
    "You must write an algorithm that runs in `O(log n)` time.\n",
    "\n",
    "**Example 1:**\n",
    "\n",
    "```\n",
    "Input: nums = [1,2,3,1]\n",
    "Output: 2\n",
    "Explanation: 3 is a peak element and your function should return the index number 2.\n",
    "```\n",
    "\n",
    "**Example 2:**\n",
    "\n",
    "```\n",
    "Input: nums = [1,2,1,3,5,6,4]\n",
    "Output: 5\n",
    "Explanation: Your function can return either index number 1 where the peak element is 2, or index number 5 where the peak element is 6.\n",
    "```\n"
   ]
  },
  {
   "cell_type": "code",
   "execution_count": 4,
   "id": "4bebcf58",
   "metadata": {},
   "outputs": [
    {
     "name": "stdout",
     "output_type": "stream",
     "text": [
      "2\n",
      "5\n"
     ]
    }
   ],
   "source": [
    "def findPeakElement(nums):\n",
    "    left, right = 0, len(nums) - 1\n",
    "    while left < right:\n",
    "        mid = left + (right - left) // 2\n",
    "        if nums[mid] < nums[mid + 1]:\n",
    "            left = mid + 1\n",
    "        else:\n",
    "            right = mid\n",
    "    return left\n",
    "\n",
    "print(findPeakElement([1, 2, 3, 1])) # Output: 2\n",
    "print(findPeakElement([1, 2, 1, 3, 5, 6, 4])) # Output: 5\n"
   ]
  },
  {
   "cell_type": "markdown",
   "id": "2125ad37",
   "metadata": {},
   "source": [
    "### Question 3 Given an array `nums` containing `n` distinct numbers in the range `[0, n]`, return *the only number in the range that is missing from the array.*\n",
    "\n",
    "**Example 1:**\n",
    "\n",
    "```\n",
    "Input: nums = [3,0,1]\n",
    "Output: 2\n",
    "Explanation: n = 3 since there are 3 numbers, so all numbers are in the range [0,3]. 2 is the missing number in the range since it does not appear in nums.\n",
    "\n",
    "```\n",
    "\n",
    "**Example 2:**\n",
    "\n",
    "```\n",
    "Input: nums = [0,1]\n",
    "Output: 2\n",
    "Explanation: n = 2 since there are 2 numbers, so all numbers are in the range [0,2]. 2 is the missing number in the range since it does not appear in nums.\n",
    "\n",
    "```\n",
    "\n",
    "**Example 3:**\n",
    "```\n",
    "Input: nums = [9,6,4,2,3,5,7,0,1]\n",
    "Output: 8\n",
    "Explanation: n = 9 since there are 9 numbers, so all numbers are in the range [0,9]. 8 is the missing number in the range since it does not appear in nums.\n",
    "```    "
   ]
  },
  {
   "cell_type": "code",
   "execution_count": 5,
   "id": "3d0bd065",
   "metadata": {},
   "outputs": [
    {
     "name": "stdout",
     "output_type": "stream",
     "text": [
      "2\n",
      "2\n",
      "8\n"
     ]
    }
   ],
   "source": [
    "def missingNumber(nums):\n",
    "    missing = len(nums) # Initialize missing as the last element in the range [0, n]\n",
    "    for i, num in enumerate(nums):\n",
    "        missing ^= i ^ num # XOR the index and the element with missing\n",
    "    return missing\n",
    "\n",
    "print(missingNumber([3, 0, 1])) # Output: 2\n",
    "print(missingNumber([0, 1])) # Output: 2\n",
    "print(missingNumber([9, 6, 4, 2, 3, 5, 7, 0, 1])) # Output: 8"
   ]
  },
  {
   "cell_type": "markdown",
   "id": "c22aa765",
   "metadata": {},
   "source": [
    "### Question 4 Given an array of integers `nums` containing `n + 1` integers where each integer is in the range `[1, n]` inclusive.\n",
    "\n",
    "There is only **one repeated number** in `nums`, return *this repeated number*.\n",
    "\n",
    "You must solve the problem **without** modifying the array `nums` and uses only constant extra space.\n",
    "\n",
    "**Example 1:**\n",
    "```\n",
    "Input: nums = [1,3,4,2,2]\n",
    "Output: 2\n",
    "```\n",
    "**Example 2:**\n",
    "```\n",
    "Input: nums = [3,1,3,4,2]\n",
    "Output: 3\n",
    "```"
   ]
  },
  {
   "cell_type": "code",
   "execution_count": 6,
   "id": "bc05593e",
   "metadata": {},
   "outputs": [
    {
     "name": "stdout",
     "output_type": "stream",
     "text": [
      "2\n",
      "3\n"
     ]
    }
   ],
   "source": [
    "def findDuplicate(nums):\n",
    "    slow = fast = nums[0] # Start with the first element as both slow and fast pointers\n",
    "# Move slow and fast pointers until they meet in the cycle\n",
    "    while True:\n",
    "        slow = nums[slow] # Move slow pointer by one step\n",
    "        fast = nums[nums[fast]] # Move fast pointer by two steps\n",
    "        if slow == fast:\n",
    "            break\n",
    "# Move the slow pointer to the beginning of the array\n",
    "    slow = nums[0]\n",
    "# Move both pointers at the same speed until they meet at the entrance of the cycle\n",
    "    while slow != fast:\n",
    "        slow = nums[slow]\n",
    "        fast = nums[fast]\n",
    "    return slow\n",
    "\n",
    "print(findDuplicate([1, 3, 4, 2, 2])) # Output: 2\n",
    "print(findDuplicate([3, 1, 3, 4, 2])) # Output: 3\n"
   ]
  },
  {
   "cell_type": "markdown",
   "id": "9c59f11e",
   "metadata": {},
   "source": [
    "### Question 5 Given two integer arrays `nums1` and `nums2`, return *an array of their intersection*. Each element in the result must be **unique** and you may return the result in **any order**.\n",
    "\n",
    "**Example 1:**\n",
    "```\n",
    "Input: nums1 = [1,2,2,1], nums2 = [2,2]\n",
    "Output: [2]\n",
    "```\n",
    "\n",
    "**Example 2:**\n",
    "```\n",
    "Input: nums1 = [4,9,5], nums2 = [9,4,9,8,4]\n",
    "Output: [9,4]\n",
    "Explanation: [4,9] is also accepted.\n",
    "```"
   ]
  },
  {
   "cell_type": "code",
   "execution_count": 7,
   "id": "a25a7c97",
   "metadata": {},
   "outputs": [
    {
     "name": "stdout",
     "output_type": "stream",
     "text": [
      "[2]\n",
      "[9, 4]\n"
     ]
    }
   ],
   "source": [
    "def intersection(nums1, nums2):\n",
    "    set1 = set(nums1) # Convert nums1 to a set\n",
    "    set2 = set(nums2) # Convert nums2 to a set\n",
    "    return list(set1.intersection(set2)) # Find the intersection of the two sets and convert it back to a list\n",
    "print(intersection([1, 2, 2, 1], [2, 2])) # Output: [2]\n",
    "print(intersection([4, 9, 5], [9, 4, 9, 8, 4])) # Output: [9, 4]"
   ]
  },
  {
   "cell_type": "markdown",
   "id": "32643ed6",
   "metadata": {},
   "source": [
    "### Question 6 Suppose an array of length `n` sorted in ascending order is **rotated** between `1` and `n` times. For example, the array `nums = [0,1,2,4,5,6,7]` might become:\n",
    "\n",
    "- `[4,5,6,7,0,1,2]` if it was rotated `4` times.\n",
    "- `[0,1,2,4,5,6,7]` if it was rotated `7` times.\n",
    "\n",
    "Notice that **rotating** an array `[a[0], a[1], a[2], ..., a[n-1]]` 1 time results in the array `[a[n-1], a[0], a[1], a[2], ..., a[n-2]]`.\n",
    "\n",
    "Given the sorted rotated array `nums` of **unique** elements, return *the minimum element of this array*.\n",
    "\n",
    "You must write an algorithm that runs in `O(log n) time.`\n",
    "\n",
    "**Example 1:**\n",
    "```Input: nums = [3,4,5,1,2]\n",
    "Output: 1\n",
    "Explanation: The original array was [1,2,3,4,5] rotated 3 times.\n",
    "```\n",
    "\n",
    "**Example 2:**\n",
    "```\n",
    "Input: nums = [4,5,6,7,0,1,2]\n",
    "Output: 0\n",
    "Explanation: The original array was [0,1,2,4,5,6,7] and it was rotated 4 times.\n",
    "```\n",
    "\n",
    "**Example 3:**\n",
    "```\n",
    "Input: nums = [11,13,15,17]\n",
    "Output: 11\n",
    "Explanation: The original array was [11,13,15,17] and it was rotated 4 times.\n",
    "```"
   ]
  },
  {
   "cell_type": "code",
   "execution_count": 11,
   "id": "169014aa",
   "metadata": {},
   "outputs": [
    {
     "name": "stdout",
     "output_type": "stream",
     "text": [
      "1\n",
      "0\n",
      "11\n"
     ]
    }
   ],
   "source": [
    "def findMin(nums):\n",
    "    left, right = 0, len(nums) - 1\n",
    "\n",
    "    while left < right:\n",
    "        mid = left + (right - left) // 2\n",
    "        if nums[mid] < nums[right]:\n",
    "            right = mid\n",
    "        else:\n",
    "            left = mid + 1\n",
    "                \n",
    "    return nums[left]\n",
    "\n",
    "print(findMin([3, 4, 5, 1, 2])) # Output: 1\n",
    "print(findMin([4, 5, 6, 7, 0, 1, 2])) # Output: 0\n",
    "print(findMin([11, 13, 15, 17])) # Output: 1"
   ]
  },
  {
   "cell_type": "markdown",
   "id": "e4fecf59",
   "metadata": {},
   "source": [
    "### Question 7 Given an array of integers `nums` sorted in non-decreasing order, find the starting and ending position of a given `target` value.\n",
    "\n",
    "If `target` is not found in the array, return `[-1, -1]`.\n",
    "\n",
    "You must write an algorithm with `O(log n)` runtime complexity.\n",
    "\n",
    "**Example 1:**\n",
    "```\n",
    "Input: nums = [5,7,7,8,8,10], target = 8\n",
    "Output: [3,4]\n",
    "```\n",
    "**Example 2:**\n",
    "```\n",
    "Input: nums = [5,7,7,8,8,10], target = 6\n",
    "Output: [-1,-1]\n",
    "```\n",
    "**Example 3:**\n",
    "```\n",
    "Input: nums = [], target = 0\n",
    "Output: [-1,-1]\n",
    "```"
   ]
  },
  {
   "cell_type": "code",
   "execution_count": 13,
   "id": "285111cc",
   "metadata": {},
   "outputs": [
    {
     "name": "stdout",
     "output_type": "stream",
     "text": [
      "[-1, 4]\n",
      "[-1, -1]\n",
      "[-1, -1]\n"
     ]
    }
   ],
   "source": [
    "def searchRange(nums, target):\n",
    "    def findLeftmost(nums, target):\n",
    "        left, right = 0, len(nums) - 1\n",
    "        index = -1\n",
    "        while left <= right:\n",
    "            mid = left + (right - left) // 2\n",
    "            if nums[mid] >= target:\n",
    "                right = mid - 1\n",
    "            else:\n",
    "                left = mid + 1\n",
    "                if nums[mid] == target:\n",
    "                    index = mid\n",
    "                    \n",
    "        return index\n",
    "\n",
    "    def findRightmost(nums, target):\n",
    "        left, right = 0, len(nums) - 1\n",
    "        index = -1\n",
    "        while left <= right:\n",
    "\n",
    "            mid = left + (right - left) // 2\n",
    "            if nums[mid] <= target:\n",
    "                left = mid + 1\n",
    "            else:\n",
    "                right = mid - 1\n",
    "            if nums[mid] == target:\n",
    "                index = mid\n",
    "                    \n",
    "        return index\n",
    "    \n",
    "    leftmost = findLeftmost(nums, target)\n",
    "    rightmost = findRightmost(nums, target)\n",
    "    return [leftmost, rightmost]\n",
    "\n",
    "print(searchRange([5, 7, 7, 8, 8, 10], 8)) # Output: [3, 4]\n",
    "print(searchRange([5, 7, 7, 8, 8, 10], 6)) # Output: [-1, -1]\n",
    "print(searchRange([], 0)) # Output: [-1, -1]\n"
   ]
  },
  {
   "cell_type": "markdown",
   "id": "78f1f48a",
   "metadata": {},
   "source": [
    "### Question 8 Given two integer arrays `nums1` and `nums2`, return *an array of their intersection*. Each element in the result must appear as many times as it shows in both arrays and you may return the result in **any order**.\n",
    "\n",
    "**Example 1:**\n",
    "```\n",
    "Input: nums1 = [1,2,2,1], nums2 = [2,2]\n",
    "Output: [2,2]\n",
    "```\n",
    "**Example 2:**\n",
    "```\n",
    "Input: nums1 = [4,9,5], nums2 = [9,4,9,8,4]\n",
    "Output: [4,9]\n",
    "Explanation: [9,4] is also accepted.\n",
    "```"
   ]
  },
  {
   "cell_type": "code",
   "execution_count": 14,
   "id": "8bfacf33",
   "metadata": {},
   "outputs": [
    {
     "name": "stdout",
     "output_type": "stream",
     "text": [
      "[2, 2]\n",
      "[9, 4]\n"
     ]
    }
   ],
   "source": [
    "from collections import Counter\n",
    "def intersect(nums1, nums2):\n",
    "    freq = Counter(nums1)\n",
    "    result = []\n",
    "    \n",
    "    for num in nums2:\n",
    "        if freq.get(num, 0) > 0:\n",
    "            result.append(num)\n",
    "            freq[num] -= 1\n",
    "            \n",
    "    return result\n",
    "\n",
    "print(intersect([1, 2, 2, 1], [2, 2])) # Output: [2, 2]\n",
    "print(intersect([4, 9, 5], [9, 4, 9, 8, 4])) # Output: [4, 9]"
   ]
  },
  {
   "cell_type": "code",
   "execution_count": null,
   "id": "15d3db3a",
   "metadata": {},
   "outputs": [],
   "source": []
  }
 ],
 "metadata": {
  "kernelspec": {
   "display_name": "Python 3 (ipykernel)",
   "language": "python",
   "name": "python3"
  },
  "language_info": {
   "codemirror_mode": {
    "name": "ipython",
    "version": 3
   },
   "file_extension": ".py",
   "mimetype": "text/x-python",
   "name": "python",
   "nbconvert_exporter": "python",
   "pygments_lexer": "ipython3",
   "version": "3.9.7"
  }
 },
 "nbformat": 4,
 "nbformat_minor": 5
}
