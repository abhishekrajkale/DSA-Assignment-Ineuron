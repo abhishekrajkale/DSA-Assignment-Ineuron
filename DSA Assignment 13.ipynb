{
 "cells": [
  {
   "cell_type": "markdown",
   "id": "1e948005",
   "metadata": {},
   "source": [
    "## Assignment 13 - Linked List"
   ]
  },
  {
   "cell_type": "markdown",
   "id": "2598a307",
   "metadata": {},
   "source": [
    "### Question 1Given two linked list of the same size, the task is to create a new linked list using those linked lists. The condition is that the greater node among both linked list will be added to the new linked list.\n",
    "\n",
    "**Examples:**\n",
    "```\n",
    "Input: list1 = 5->2->3->8\n",
    "list2 = 1->7->4->5\n",
    "Output: New list = 5->7->4->8\n",
    "\n",
    "Input:list1 = 2->8->9->3\n",
    "list2 = 5->3->6->4\n",
    "Output: New list = 5->8->9->4\n",
    "```"
   ]
  },
  {
   "cell_type": "code",
   "execution_count": 1,
   "id": "15184d19",
   "metadata": {},
   "outputs": [
    {
     "name": "stdout",
     "output_type": "stream",
     "text": [
      "5 2 3 8 1 7 4 5 "
     ]
    }
   ],
   "source": [
    "class Node:\n",
    "    def __init__(self, data):\n",
    "        self.data = data\n",
    "        self.next = None\n",
    "        \n",
    "def create_new_linked_list(list1, list2):\n",
    "    head1 = list1\n",
    "    head2 = list2\n",
    "    newList = None\n",
    "    tail = None\n",
    "    \n",
    "    while head1 is not None or head2 is not None:\n",
    "        if head1 is None:\n",
    "            tail.next = head2\n",
    "            break\n",
    "        if head2 is None:\n",
    "            tail.next = head1\n",
    "            break\n",
    "            \n",
    "        if head1.data >= head2.data:\n",
    "            new_node = Node(head1.data)\n",
    "            head1 = head1.next\n",
    "        else:\n",
    "            new_node = Node(head2.data)\n",
    "            head2 = head2.next\n",
    "        if newList is None:\n",
    "            newList = new_node\n",
    "            tail = new_node\n",
    "        else:\n",
    "            tail.next = new_node\n",
    "            tail = new_node\n",
    "    return newList\n",
    "\n",
    "# Example 1\n",
    "list1 = Node(5)\n",
    "list1.next = Node(2)\n",
    "list1.next.next = Node(3)\n",
    "list1.next.next.next = Node(8)\n",
    "\n",
    "list2 = Node(1)\n",
    "list2.next = Node(7)\n",
    "list2.next.next = Node(4)\n",
    "list2.next.next.next = Node(5)\n",
    "\n",
    "new_list = create_new_linked_list(list1, list2)\n",
    "current = new_list\n",
    "\n",
    "while current is not None:\n",
    "    print(current.data, end=\" \")\n",
    "    current = current.next\n"
   ]
  },
  {
   "cell_type": "code",
   "execution_count": 2,
   "id": "1c35b674",
   "metadata": {},
   "outputs": [
    {
     "name": "stdout",
     "output_type": "stream",
     "text": [
      "5 3 6 4 2 8 9 3 "
     ]
    }
   ],
   "source": [
    "# Example 2\n",
    "list1 = Node(2)\n",
    "list1.next = Node(8)\n",
    "list1.next.next = Node(9)\n",
    "list1.next.next.next = Node(3)\n",
    "list2 = Node(5)\n",
    "list2.next = Node(3)\n",
    "list2.next.next = Node(6)\n",
    "list2.next.next.next = Node(4)\n",
    "new_list = create_new_linked_list(list1, list2)\n",
    "current = new_list\n",
    "while current is not None:\n",
    "    print(current.data, end=\" \")\n",
    "    current = current.next\n"
   ]
  },
  {
   "cell_type": "markdown",
   "id": "9dea0119",
   "metadata": {},
   "source": [
    "### Question 2 Write a function that takes a list sorted in non-decreasing order and deletes any duplicate nodes from the list. The list should only be traversed once.\n",
    "\n",
    "For example if the linked list is 11->11->11->21->43->43->60 then removeDuplicates() should convert the list to 11->21->43->60.\n",
    "\n",
    "**Example 1:**\n",
    "```Input:\n",
    "LinkedList: \n",
    "11->11->11->21->43->43->60\n",
    "Output:\n",
    "11->21->43->60\n",
    "```\n",
    "**Example 2:**\n",
    "```\n",
    "Input:\n",
    "LinkedList: \n",
    "10->12->12->25->25->25->34\n",
    "Output:\n",
    "10->12->25->34\n",
    "```"
   ]
  },
  {
   "cell_type": "code",
   "execution_count": 1,
   "id": "68822aa6",
   "metadata": {},
   "outputs": [
    {
     "name": "stdout",
     "output_type": "stream",
     "text": [
      "Original Linked List:\n",
      "11->11->11->21->43->43->60->None\n",
      "Linked List after removing duplicates:\n",
      "11->21->43->60->None\n"
     ]
    }
   ],
   "source": [
    "class Node:\n",
    "    def __init__(self, data):\n",
    "        self.data = data\n",
    "        self.next = None\n",
    "\n",
    "def remove_duplicates(head):\n",
    "    if head is None:\n",
    "        return head\n",
    "\n",
    "    current = head\n",
    "    while current.next is not None:\n",
    "        if current.data == current.next.data:\n",
    "            current.next = current.next.next\n",
    "        else:\n",
    "            current = current.next\n",
    "\n",
    "    return head\n",
    "\n",
    "def display(head):\n",
    "    current = head\n",
    "    while current is not None:\n",
    "        print(current.data, end=\"->\")\n",
    "        current = current.next\n",
    "    print(\"None\")\n",
    "\n",
    "# Create the linked list\n",
    "head = Node(11)\n",
    "head.next = Node(11)\n",
    "head.next.next = Node(11)\n",
    "head.next.next.next = Node(21)\n",
    "head.next.next.next.next = Node(43)\n",
    "head.next.next.next.next.next = Node(43)\n",
    "head.next.next.next.next.next.next = Node(60)\n",
    "\n",
    "# Display the original list\n",
    "print(\"Original Linked List:\")\n",
    "display(head)\n",
    "\n",
    "# Remove duplicates\n",
    "head = remove_duplicates(head)\n",
    "\n",
    "# Display the list after removing duplicates\n",
    "print(\"Linked List after removing duplicates:\")\n",
    "display(head)"
   ]
  },
  {
   "cell_type": "code",
   "execution_count": 2,
   "id": "22f85fe2",
   "metadata": {},
   "outputs": [
    {
     "name": "stdout",
     "output_type": "stream",
     "text": [
      "Original Linked List:\n",
      "10->12->12->25->25->25->34->None\n",
      "Linked List after removing duplicates:\n",
      "10->12->25->34->None\n"
     ]
    }
   ],
   "source": [
    "# Create the linked list\n",
    "head = Node(10)\n",
    "head.next = Node(12)\n",
    "head.next.next = Node(12)\n",
    "head.next.next.next = Node(25)\n",
    "head.next.next.next.next = Node(25)\n",
    "head.next.next.next.next.next = Node(25)\n",
    "head.next.next.next.next.next.next = Node(34)\n",
    "\n",
    "# Display the original list\n",
    "print(\"Original Linked List:\")\n",
    "display(head)\n",
    "\n",
    "# Remove duplicates\n",
    "head = remove_duplicates(head)\n",
    "\n",
    "# Display the list after removing duplicates\n",
    "print(\"Linked List after removing duplicates:\")\n",
    "display(head)"
   ]
  },
  {
   "cell_type": "markdown",
   "id": "5d8a8c53",
   "metadata": {},
   "source": [
    "### Question 3 Given a linked list of size **N**. The task is to reverse every **k** nodes (where k is an input to the function) in the linked list. If the number of nodes is not a multiple of *k* then left-out nodes, in the end, should be considered as a group and must be reversed (See Example 2 for clarification).\n",
    "\n",
    "**Example 1:**\n",
    "```Input:\n",
    "LinkedList: 1->2->2->4->5->6->7->8\n",
    "K = 4\n",
    "Output:4 2 2 1 8 7 6 5\n",
    "Explanation:\n",
    "The first 4 elements 1,2,2,4 are reversed first\n",
    "and then the next 4 elements 5,6,7,8. Hence, the\n",
    "resultant linked list is 4->2->2->1->8->7->6->5.\n",
    "```\n",
    "\n",
    "**Example 2:**\n",
    "```\n",
    "Input:\n",
    "LinkedList: 1->2->3->4->5\n",
    "K = 3\n",
    "Output:3 2 1 5 4\n",
    "Explanation:\n",
    "The first 3 elements are 1,2,3 are reversed\n",
    "first and then elements 4,5 are reversed.Hence,\n",
    "the resultant linked list is 3->2->1->5->4.\n",
    "```"
   ]
  },
  {
   "cell_type": "code",
   "execution_count": 6,
   "id": "7601cda9",
   "metadata": {},
   "outputs": [],
   "source": [
    "class Node:\n",
    "    def __init__(self, data):\n",
    "        self.data = data\n",
    "        self.next = None\n",
    "def reverse_k_nodes(head, k):\n",
    "    if head is None or head.next is None or k == 1:\n",
    "        return head\n",
    "    dummy = Node(0)\n",
    "    dummy.next = head\n",
    "    prev = dummy\n",
    "    current = head\n",
    "    count = 0\n",
    "    \n",
    "    while current is not None:\n",
    "        count += 1\n",
    "        if count % k == 0:\n",
    "            prev = reverse_group(prev, current.next)\n",
    "            current = prev.next\n",
    "        else:\n",
    "            current = current.next\n",
    "    return dummy.next\n",
    "\n",
    "def reverse_group(prev, next):\n",
    "    last = prev.next\n",
    "    current = last.next\n",
    "    \n",
    "    while current != next:\n",
    "        last.next = current.next\n",
    "        current.next = prev.next\n",
    "        prev.next = current\n",
    "        current = last.next\n",
    "    return last\n"
   ]
  },
  {
   "cell_type": "code",
   "execution_count": 7,
   "id": "19ac89f7",
   "metadata": {},
   "outputs": [
    {
     "name": "stdout",
     "output_type": "stream",
     "text": [
      "4 2 2 1 8 7 6 5 "
     ]
    }
   ],
   "source": [
    "# Example 1\n",
    "list1 = Node(1)\n",
    "list1.next = Node(2)\n",
    "list1.next.next = Node(2)\n",
    "list1.next.next.next = Node(4)\n",
    "list1.next.next.next.next = Node(5)\n",
    "list1.next.next.next.next.next = Node(6)\n",
    "list1.next.next.next.next.next.next = Node(7)\n",
    "list1.next.next.next.next.next.next.next = Node(8)\n",
    "k = 4\n",
    "new_list = reverse_k_nodes(list1, k)\n",
    "current = new_list\n",
    "while current is not None:\n",
    "    print(current.data, end=\" \")\n",
    "    current = current.next\n"
   ]
  },
  {
   "cell_type": "code",
   "execution_count": 9,
   "id": "fb2bef49",
   "metadata": {},
   "outputs": [
    {
     "name": "stdout",
     "output_type": "stream",
     "text": [
      "3 2 1 4 5 "
     ]
    }
   ],
   "source": [
    "# Example 2\n",
    "list2 = Node(1)\n",
    "list2.next = Node(2)\n",
    "list2.next.next = Node(3)\n",
    "list2.next.next.next = Node(4)\n",
    "list2.next.next.next.next = Node(5)\n",
    "k = 3\n",
    "new_list = reverse_k_nodes(list2, k)\n",
    "current = new_list\n",
    "while current is not None:\n",
    "    print(current.data, end=\" \")\n",
    "    current = current.next\n"
   ]
  },
  {
   "cell_type": "markdown",
   "id": "5153c742",
   "metadata": {},
   "source": [
    "### Question 4 Given a linked list, write a function to reverse every alternate k nodes (where k is an input to the function) in an efficient way. Give the complexity of your algorithm.\n",
    "\n",
    "**Example:**\n",
    "```\n",
    "Inputs:   1->2->3->4->5->6->7->8->9->NULL and k = 3\n",
    "Output:   3->2->1->4->5->6->9->8->7->NULL.\n",
    "```"
   ]
  },
  {
   "cell_type": "code",
   "execution_count": 10,
   "id": "4824f538",
   "metadata": {},
   "outputs": [],
   "source": [
    "class Node:\n",
    "    def __init__(self, data):\n",
    "        self.data = data\n",
    "        self.next = None\n",
    "def reverse_alternate_k_nodes(head, k):\n",
    "    current = head\n",
    "    next = None\n",
    "    prev = None\n",
    "    count = 0\n",
    "    \n",
    "    while current is not None and count < k:\n",
    "        next = current.next\n",
    "        current.next = prev\n",
    "        prev = current\n",
    "        current = next\n",
    "        count += 1\n",
    "        \n",
    "    if head is not None:\n",
    "        head.next = current\n",
    "        count = 0\n",
    "        \n",
    "        while count < k - 1 and current is not None:\n",
    "            current = current.next\n",
    "            count += 1\n",
    "            \n",
    "        if current is not None:\n",
    "            current.next = reverse_alternate_k_nodes(current.next, k)\n",
    "        return prev\n",
    "    \n",
    "def print_linked_list(head):\n",
    "    while head is not None:\n",
    "        print(head.data, end=\" \")\n",
    "        head = head.next\n",
    "    print()\n"
   ]
  },
  {
   "cell_type": "code",
   "execution_count": 11,
   "id": "b330f29e",
   "metadata": {},
   "outputs": [
    {
     "name": "stdout",
     "output_type": "stream",
     "text": [
      "Original Linked List:\n",
      "1 2 3 4 5 6 7 8 9 \n",
      "Reversed Linked List:\n",
      "3 2 1 4 5 6 9 8 7 \n"
     ]
    }
   ],
   "source": [
    "# Create a sample linked list\n",
    "head = Node(1)\n",
    "head.next = Node(2)\n",
    "head.next.next = Node(3)\n",
    "head.next.next.next = Node(4)\n",
    "head.next.next.next.next = Node(5)\n",
    "head.next.next.next.next.next = Node(6)\n",
    "head.next.next.next.next.next.next = Node(7)\n",
    "head.next.next.next.next.next.next.next = Node(8)\n",
    "head.next.next.next.next.next.next.next.next = Node(9)\n",
    "print(\"Original Linked List:\")\n",
    "print_linked_list(head)\n",
    "k = 3\n",
    "head = reverse_alternate_k_nodes(head, k)\n",
    "print(\"Reversed Linked List:\")\n",
    "print_linked_list(head)"
   ]
  },
  {
   "cell_type": "markdown",
   "id": "87cfd00e",
   "metadata": {},
   "source": [
    "### Question 5 Given a linked list and a key to be deleted. Delete last occurrence of key from linked. The list may have duplicates.\n",
    "\n",
    "**Examples**:\n",
    "```\n",
    "Input:   1->2->3->5->2->10, key = 2\n",
    "Output:  1->2->3->5->10\n",
    "```"
   ]
  },
  {
   "cell_type": "code",
   "execution_count": 12,
   "id": "a3ce343b",
   "metadata": {},
   "outputs": [],
   "source": [
    "class Node:\n",
    "    def __init__(self, data):\n",
    "        self.data = data\n",
    "        self.next = None\n",
    "        \n",
    "def delete_last_occurrence(head, key):\n",
    "    prev = None\n",
    "    lastOccur = None\n",
    "    toDelete = None\n",
    "    current = head\n",
    "    \n",
    "    while current is not None:\n",
    "        if current.data == key:\n",
    "            lastOccur = prev\n",
    "            toDelete = current\n",
    "        prev = current\n",
    "        current = current.next\n",
    "    if lastOccur is None:\n",
    "        return head\n",
    "    elif toDelete == head:\n",
    "        head = head.next\n",
    "    else:\n",
    "        lastOccur.next = toDelete.next\n",
    "    return head\n",
    "\n",
    "def print_linked_list(head):\n",
    "    while head is not None:\n",
    "        print(head.data, end=\" \")\n",
    "        head = head.next\n",
    "    print()\n"
   ]
  },
  {
   "cell_type": "code",
   "execution_count": 13,
   "id": "d6ca09e9",
   "metadata": {},
   "outputs": [
    {
     "name": "stdout",
     "output_type": "stream",
     "text": [
      "Original Linked List:\n",
      "1 2 3 5 2 10 \n",
      "Modified Linked List:\n",
      "1 2 3 5 10 \n"
     ]
    }
   ],
   "source": [
    "head = Node(1)\n",
    "head.next = Node(2)\n",
    "head.next.next = Node(3)\n",
    "head.next.next.next = Node(5)\n",
    "head.next.next.next.next = Node(2)\n",
    "head.next.next.next.next.next = Node(10)\n",
    "print(\"Original Linked List:\")\n",
    "print_linked_list(head)\n",
    "key = 2\n",
    "head = delete_last_occurrence(head, key)\n",
    "print(\"Modified Linked List:\")\n",
    "print_linked_list(head)\n"
   ]
  },
  {
   "cell_type": "markdown",
   "id": "6a0fff65",
   "metadata": {},
   "source": [
    "### Question 6 Given two sorted linked lists consisting of **N** and **M** nodes respectively. The task is to merge both of the lists (in place) and return the head of the merged list.\n",
    "\n",
    "**Examples:**\n",
    "\n",
    "Input: a: 5->10->15, b: 2->3->20\n",
    "\n",
    "Output: 2->3->5->10->15->20\n",
    "\n",
    "Input: a: 1->1, b: 2->4\n",
    "\n",
    "Output: 1->1->2->4\n",
    "\n"
   ]
  },
  {
   "cell_type": "code",
   "execution_count": 16,
   "id": "1d607fc3",
   "metadata": {},
   "outputs": [],
   "source": [
    "class Node:\n",
    "    def __init__(self, data):\n",
    "        self.data = data\n",
    "        self.next = None\n",
    "        \n",
    "def merge_sorted_lists(head1, head2):\n",
    "    dummy = Node(0)\n",
    "    mergePtr = dummy\n",
    "    \n",
    "    while head1 is not None and head2 is not None:\n",
    "        if head1.data <= head2.data:\n",
    "            mergePtr.next = head1\n",
    "            head1 = head1.next\n",
    "        else:\n",
    "            mergePtr.next = head2\n",
    "            head2 = head2.next\n",
    "            mergePtr = mergePtr.next\n",
    "    if head1 is not None:\n",
    "        mergePtr.next = head1\n",
    "    if head2 is not None:\n",
    "        mergePtr.next = head2\n",
    "        \n",
    "    return dummy.next\n",
    "\n",
    "def print_linked_list(head):\n",
    "    while head is not None:\n",
    "        print(head.data, end=\" \")\n",
    "        head = head.next\n",
    "        \n",
    "    print()"
   ]
  },
  {
   "cell_type": "code",
   "execution_count": 17,
   "id": "9085b005",
   "metadata": {},
   "outputs": [
    {
     "name": "stdout",
     "output_type": "stream",
     "text": [
      "First Linked List:\n",
      "5 10 15 \n",
      "Second Linked List:\n",
      "2 3 20 \n",
      "Merged Linked List:\n",
      "2 3 20 \n"
     ]
    }
   ],
   "source": [
    "a = Node(5)\n",
    "a.next = Node(10)\n",
    "a.next.next = Node(15)\n",
    "b = Node(2)\n",
    "b.next = Node(3)\n",
    "b.next.next = Node(20)\n",
    "print(\"First Linked List:\")\n",
    "print_linked_list(a)\n",
    "print(\"Second Linked List:\")\n",
    "print_linked_list(b)\n",
    "merged = merge_sorted_lists(a, b)\n",
    "print(\"Merged Linked List:\")\n",
    "print_linked_list(merged)\n"
   ]
  },
  {
   "cell_type": "markdown",
   "id": "cd76f2d7",
   "metadata": {},
   "source": [
    "### Question 7 Given a **Doubly Linked List**, the task is to reverse the given Doubly Linked List.\n",
    "\n",
    "**Example:**\n",
    "```\n",
    "Original Linked list 10 8 4 2\n",
    "Reversed Linked list 2 4 8 10\n",
    "```"
   ]
  },
  {
   "cell_type": "code",
   "execution_count": 18,
   "id": "4d980e90",
   "metadata": {},
   "outputs": [
    {
     "name": "stdout",
     "output_type": "stream",
     "text": [
      "Original Doubly Linked List:\n",
      "10 8 4 2 \n",
      "Reversed Doubly Linked List:\n",
      "2 4 8 10 \n"
     ]
    }
   ],
   "source": [
    "class Node:\n",
    "    def __init__(self, data):\n",
    "        self.data = data\n",
    "        self.next = None\n",
    "        self.prev = None\n",
    "        \n",
    "def reverse_doubly_linked_list(head):\n",
    "    current = head\n",
    "    temp = None\n",
    "    \n",
    "    while current is not None:\n",
    "        temp = current.prev\n",
    "        current.prev = current.next\n",
    "        current.next = temp\n",
    "        current = current.prev\n",
    "        \n",
    "    if temp is not None:\n",
    "        head = temp.prev\n",
    "    return head\n",
    "\n",
    "def print_doubly_linked_list(head):\n",
    "    while head is not None:\n",
    "        print(head.data, end=\" \")\n",
    "        head = head.next\n",
    "    print()\n",
    "\n",
    "head = Node(10)\n",
    "head.next = Node(8)\n",
    "head.next.prev = head\n",
    "head.next.next = Node(4)\n",
    "head.next.next.prev = head.next\n",
    "head.next.next.next = Node(2)\n",
    "head.next.next.next.prev = head.next.next\n",
    "print(\"Original Doubly Linked List:\")\n",
    "print_doubly_linked_list(head)\n",
    "head = reverse_doubly_linked_list(head)\n",
    "print(\"Reversed Doubly Linked List:\")\n",
    "print_doubly_linked_list(head)"
   ]
  },
  {
   "cell_type": "markdown",
   "id": "93c65436",
   "metadata": {},
   "source": [
    "## Question 8 Given a doubly linked list and a position. The task is to delete a node from given position in a doubly linked list.\n",
    "\n",
    "**Example 1:**\n",
    "```\n",
    "Input:\n",
    "LinkedList = 1 <--> 3 <--> 4\n",
    "x = 3\n",
    "Output:1 3\n",
    "Explanation:After deleting the node at\n",
    "position 3 (position starts from 1),\n",
    "the linked list will be now as 1->3.\n",
    "```\n",
    "**Example 2:**\n",
    "```\n",
    "Input:\n",
    "LinkedList = 1 <--> 5 <--> 2 <--> 9\n",
    "x = 1\n",
    "Output:5 2 9\n",
    "```"
   ]
  },
  {
   "cell_type": "code",
   "execution_count": 19,
   "id": "7a399f59",
   "metadata": {},
   "outputs": [],
   "source": [
    "class Node:\n",
    "    def __init__(self, data):\n",
    "        self.data = data\n",
    "        self.next = None\n",
    "        self.prev = None\n",
    "def delete_node_at_position(head, position):\n",
    "    if position < 1:\n",
    "        return head\n",
    "    current = head\n",
    "    count = 1\n",
    "    \n",
    "    while current is not None and count < position:\n",
    "        current = current.next\n",
    "        count += 1\n",
    "        \n",
    "    if current is None:\n",
    "        return head\n",
    "    if current.prev is not None:\n",
    "        current.prev.next = current.next\n",
    "        \n",
    "    else:\n",
    "        head = current.next\n",
    "    if current.next is not None:\n",
    "        current.next.prev = current.prev\n",
    "        \n",
    "    return head\n"
   ]
  },
  {
   "cell_type": "code",
   "execution_count": 20,
   "id": "bfdc76c8",
   "metadata": {},
   "outputs": [],
   "source": [
    "def print_doubly_linked_list(head):\n",
    "    while head is not None:\n",
    "        print(head.data, end=\" \")\n",
    "        head = head.next\n",
    "    print()\n"
   ]
  },
  {
   "cell_type": "code",
   "execution_count": 23,
   "id": "f42345b7",
   "metadata": {},
   "outputs": [
    {
     "name": "stdout",
     "output_type": "stream",
     "text": [
      "Original Doubly Linked List:\n",
      "1 5 2 9 \n",
      "Modified Doubly Linked Li:\n"
     ]
    }
   ],
   "source": [
    "head = Node(1)\n",
    "head.next = Node(5)\n",
    "head.next.prev = head\n",
    "head.next.next = Node(2)\n",
    "head.next.next.prev = head.next\n",
    "head.next.next.next = Node(9)\n",
    "head.next.next.next.prev = head.next.next\n",
    "print(\"Original Doubly Linked List:\")\n",
    "print_doubly_linked_list(head)\n",
    "position = 1\n",
    "head = delete_node_at_position(head, position)\n",
    "print(\"Modified Doubly Linked Li:\")"
   ]
  },
  {
   "cell_type": "code",
   "execution_count": null,
   "id": "4f55e16e",
   "metadata": {},
   "outputs": [],
   "source": []
  }
 ],
 "metadata": {
  "kernelspec": {
   "display_name": "Python 3 (ipykernel)",
   "language": "python",
   "name": "python3"
  },
  "language_info": {
   "codemirror_mode": {
    "name": "ipython",
    "version": 3
   },
   "file_extension": ".py",
   "mimetype": "text/x-python",
   "name": "python",
   "nbconvert_exporter": "python",
   "pygments_lexer": "ipython3",
   "version": "3.9.7"
  }
 },
 "nbformat": 4,
 "nbformat_minor": 5
}
