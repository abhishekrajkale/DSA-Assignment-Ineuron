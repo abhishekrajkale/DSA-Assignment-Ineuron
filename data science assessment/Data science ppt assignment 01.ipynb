{
 "cells": [
  {
   "cell_type": "markdown",
   "id": "e06df77b",
   "metadata": {},
   "source": [
    "# PPT Data science Assignment 1 "
   ]
  },
  {
   "cell_type": "markdown",
   "id": "6a598f8b",
   "metadata": {},
   "source": [
    "### 1. Write a Python program to reverse a string without using any built-in string reversal functions."
   ]
  },
  {
   "cell_type": "code",
   "execution_count": 1,
   "id": "2dee1dad",
   "metadata": {},
   "outputs": [],
   "source": [
    "s = \" Hii my name is abhishek kale\""
   ]
  },
  {
   "cell_type": "code",
   "execution_count": 2,
   "id": "523c3f4c",
   "metadata": {},
   "outputs": [
    {
     "data": {
      "text/plain": [
       "'elak kehsihba si eman ym iiH '"
      ]
     },
     "execution_count": 2,
     "metadata": {},
     "output_type": "execute_result"
    }
   ],
   "source": [
    "s[::-1]"
   ]
  },
  {
   "cell_type": "code",
   "execution_count": 3,
   "id": "a64223f4",
   "metadata": {},
   "outputs": [
    {
     "name": "stdout",
     "output_type": "stream",
     "text": [
      "Reversed string: kehsihba si eman ym\n"
     ]
    }
   ],
   "source": [
    "my_string=(\"my name is abhishek\")\n",
    "str=\"\"                                  # Reverse a string using for loop \n",
    "for i in my_string:\n",
    "    str=i+str\n",
    "print(\"Reversed string:\",str)"
   ]
  },
  {
   "cell_type": "markdown",
   "id": "7479ff89",
   "metadata": {},
   "source": [
    "### 2. Implement a function to check if a given string is a palindrome."
   ]
  },
  {
   "cell_type": "code",
   "execution_count": 4,
   "id": "03cd50c5",
   "metadata": {},
   "outputs": [
    {
     "name": "stdout",
     "output_type": "stream",
     "text": [
      "Yes\n"
     ]
    }
   ],
   "source": [
    "def isPalindrome(s):\n",
    "    return s == s[::-1]\n",
    " \n",
    "s = \"malayalam\"\n",
    "ans = isPalindrome(s)\n",
    " \n",
    "if ans:\n",
    "    print(\"Yes\")\n",
    "else:\n",
    "    print(\"No\")"
   ]
  },
  {
   "cell_type": "markdown",
   "id": "c23e59f6",
   "metadata": {},
   "source": [
    "### 3. Write a program to find the largest element in a given list."
   ]
  },
  {
   "cell_type": "code",
   "execution_count": 5,
   "id": "4c1598b5",
   "metadata": {},
   "outputs": [
    {
     "name": "stdout",
     "output_type": "stream",
     "text": [
      "Largest element is: 100\n"
     ]
    }
   ],
   "source": [
    "list1 = [20, 10, 20, 4,5 , 8, 100]\n",
    " \n",
    "# Printing the maximum element\n",
    "print(\"Largest element is:\", max(list1))"
   ]
  },
  {
   "cell_type": "code",
   "execution_count": 6,
   "id": "5e0496b7",
   "metadata": {},
   "outputs": [
    {
     "name": "stdout",
     "output_type": "stream",
     "text": [
      "100\n"
     ]
    }
   ],
   "source": [
    "lst = [20, 10, 20, 4, 8, 100]\n",
    "print(max(lst, key=lambda value: int(value)) )"
   ]
  },
  {
   "cell_type": "markdown",
   "id": "a001ef3a",
   "metadata": {},
   "source": [
    "### 4. Implement a function to count the occurrence of each element in a list."
   ]
  },
  {
   "cell_type": "code",
   "execution_count": 7,
   "id": "c5e6298b",
   "metadata": {},
   "outputs": [],
   "source": [
    "l = [20, 10, 20, 4,10,10, 8, 100]"
   ]
  },
  {
   "cell_type": "code",
   "execution_count": 8,
   "id": "24d1ce2d",
   "metadata": {},
   "outputs": [
    {
     "data": {
      "text/plain": [
       "3"
      ]
     },
     "execution_count": 8,
     "metadata": {},
     "output_type": "execute_result"
    }
   ],
   "source": [
    "l.count(10)"
   ]
  },
  {
   "cell_type": "code",
   "execution_count": 9,
   "id": "a2929844",
   "metadata": {},
   "outputs": [
    {
     "name": "stdout",
     "output_type": "stream",
     "text": [
      "2\n",
      "3\n"
     ]
    }
   ],
   "source": [
    "# Using count() method\n",
    "s = [ \"a\", \"ab\", \"a\", \"abc\", \"ab\", \"ab\"]\n",
    "print(s.count(\"a\"))\n",
    "print(s.count(\"ab\"))"
   ]
  },
  {
   "cell_type": "code",
   "execution_count": 10,
   "id": "2b4c38ec",
   "metadata": {},
   "outputs": [
    {
     "name": "stdout",
     "output_type": "stream",
     "text": [
      "ab : 3\n",
      "abc : 1\n",
      "a : 2\n"
     ]
    }
   ],
   "source": [
    "# Using for loop\n",
    "s= [\"a\", \"ab\", \"a\", \"abc\", \"ab\", \"ab\"]\n",
    "set(s)\n",
    "s.count(\"a\")\n",
    "\n",
    "for i in set(s):\n",
    "    print(i,\":\",s.count(i))"
   ]
  },
  {
   "cell_type": "markdown",
   "id": "e25c16ea",
   "metadata": {},
   "source": [
    "### 5. Write a Python program to find the second largest number in a list."
   ]
  },
  {
   "cell_type": "code",
   "execution_count": 11,
   "id": "7a8f40b1",
   "metadata": {},
   "outputs": [
    {
     "name": "stdout",
     "output_type": "stream",
     "text": [
      "Second larg no: 20\n"
     ]
    }
   ],
   "source": [
    "l = [20, 10, 20, 4, 10, 10, 8, 100]\n",
    "l1 = list(set(l))\n",
    "l1.sort()\n",
    "print(\"Second larg no:\",l1[-2])"
   ]
  },
  {
   "cell_type": "code",
   "execution_count": 12,
   "id": "c6719367",
   "metadata": {},
   "outputs": [
    {
     "name": "stdout",
     "output_type": "stream",
     "text": [
      "20\n"
     ]
    }
   ],
   "source": [
    "def secondmax(arr):\n",
    "    sublist = [x for x in arr if x < max(arr)]\n",
    "    return max(sublist)\n",
    " \n",
    "if __name__ == '__main__':\n",
    "    arr = [20, 10, 20, 4, 10, 10, 8, 100]\n",
    "    print(secondmax(arr))"
   ]
  },
  {
   "cell_type": "markdown",
   "id": "b5f6be15",
   "metadata": {},
   "source": [
    "### 6.Implement a function to remove duplicate elements from a list."
   ]
  },
  {
   "cell_type": "code",
   "execution_count": 13,
   "id": "2f37e797",
   "metadata": {},
   "outputs": [
    {
     "name": "stdout",
     "output_type": "stream",
     "text": [
      "Original List:  [20, 10, 20, 4, 10, 10, 8, 100]\n",
      "List after removing duplicate elements:  [100, 4, 8, 10, 20]\n"
     ]
    }
   ],
   "source": [
    "l = [20, 10, 20, 4,10,10, 8, 100]\n",
    "print(\"Original List: \", l)\n",
    "res = [*set(l)]                    # Using *set\n",
    "print(\"List after removing duplicate elements: \", res)"
   ]
  },
  {
   "cell_type": "code",
   "execution_count": 5,
   "id": "376fce38",
   "metadata": {},
   "outputs": [
    {
     "name": "stdout",
     "output_type": "stream",
     "text": [
      "The original list is : [20, 10, 20, 4, 10, 10, 8, 100]\n",
      "The list after removing duplicates : [100, 4, 8, 10, 20]\n"
     ]
    }
   ],
   "source": [
    "lst = [20, 10, 20, 4,10,10, 8, 100]\n",
    "print (\"The original list is : \"\n",
    "        + str(lst))\n",
    " \n",
    "# using set()\n",
    "# to remove duplicated\n",
    "# from list\n",
    "lst = list(set(lst))\n",
    " \n",
    "# printing list after removal\n",
    "# distorted ordering\n",
    "print (\"The list after removing duplicates : \"\n",
    "        + str(lst))"
   ]
  },
  {
   "cell_type": "markdown",
   "id": "3a0e10bc",
   "metadata": {},
   "source": [
    "### 7. Write a program to calculate the factorial of a given number."
   ]
  },
  {
   "cell_type": "code",
   "execution_count": 6,
   "id": "460e48fa",
   "metadata": {},
   "outputs": [
    {
     "name": "stdout",
     "output_type": "stream",
     "text": [
      "Factorial of 10 is 3628800\n"
     ]
    }
   ],
   "source": [
    "def factorial(n):    \n",
    "    # single line to find factorial\n",
    "    return 1 if (n==1 or n==0) else n * factorial(n - 1)\n",
    "num = 10\n",
    "print(\"Factorial of\",num,\"is\",factorial(num))"
   ]
  },
  {
   "cell_type": "markdown",
   "id": "a325fe39",
   "metadata": {},
   "source": [
    "### 8. Implement a function to check if a given number is prime."
   ]
  },
  {
   "cell_type": "code",
   "execution_count": 7,
   "id": "0f3a913b",
   "metadata": {},
   "outputs": [
    {
     "name": "stdout",
     "output_type": "stream",
     "text": [
      "Enter a number: 13\n",
      "13 is a prime number\n"
     ]
    }
   ],
   "source": [
    "input_number = int(input(\"Enter a number: \"))\n",
    "# If given number is greater than 1\n",
    "if input_number > 1:\n",
    "    # Iterate from 2 to n / 2\n",
    "    \n",
    "    for i in range(2, int(input_number/2)+1):\n",
    "        \n",
    "        if (input_number % i) == 0:\n",
    "            print(input_number, \"is not a prime number\")\n",
    "            break\n",
    "    else:\n",
    "        print(input_number, \"is a prime number\")\n",
    "else:\n",
    "    print(input_number, \"is not a prime number\")\n",
    "    "
   ]
  },
  {
   "cell_type": "markdown",
   "id": "0f828a8a",
   "metadata": {},
   "source": [
    "### 9. Write a Python program to sort a list of integers in ascending order.\n"
   ]
  },
  {
   "cell_type": "code",
   "execution_count": 8,
   "id": "53700f4b",
   "metadata": {},
   "outputs": [],
   "source": [
    "l=[20, 10, 20, 4,10,10, 8, 100]"
   ]
  },
  {
   "cell_type": "code",
   "execution_count": 9,
   "id": "77b99c2a",
   "metadata": {},
   "outputs": [],
   "source": [
    "l\n",
    "l.sort()"
   ]
  },
  {
   "cell_type": "code",
   "execution_count": 10,
   "id": "13118040",
   "metadata": {},
   "outputs": [
    {
     "data": {
      "text/plain": [
       "[4, 8, 10, 10, 10, 20, 20, 100]"
      ]
     },
     "execution_count": 10,
     "metadata": {},
     "output_type": "execute_result"
    }
   ],
   "source": [
    "l"
   ]
  },
  {
   "cell_type": "code",
   "execution_count": 11,
   "id": "7b440576",
   "metadata": {},
   "outputs": [
    {
     "name": "stdout",
     "output_type": "stream",
     "text": [
      "None\n",
      "[4, 8, 10, 10, 10, 20, 20, 100]\n"
     ]
    }
   ],
   "source": [
    "num= [4, 8, 10, 10, 10, 20, 20, 100]\n",
    "# Sorting list of Integers in ascending\n",
    "print(num.sort())  # None\n",
    "print(num)           \n",
    " "
   ]
  },
  {
   "cell_type": "code",
   "execution_count": 12,
   "id": "71b91e4f",
   "metadata": {},
   "outputs": [
    {
     "name": "stdout",
     "output_type": "stream",
     "text": [
      "['abhi', 'code', 'gokul', 'ide', 'practice']\n"
     ]
    }
   ],
   "source": [
    "# Sorting List in Descending Order\n",
    "# Creating List\n",
    "strs = [\"gokul\", \"code\", \"ide\", \"practice\",\"abhi\"]\n",
    " \n",
    "# Sorting list of Integers in ascending\n",
    "# using sort() methods\n",
    "strs.sort()\n",
    "print(strs)"
   ]
  },
  {
   "cell_type": "markdown",
   "id": "39c84430",
   "metadata": {},
   "source": [
    "### 10. Implement a function to find the sum of all numbers in a list."
   ]
  },
  {
   "cell_type": "code",
   "execution_count": 13,
   "id": "3fa86ab9",
   "metadata": {},
   "outputs": [
    {
     "name": "stdout",
     "output_type": "stream",
     "text": [
      "182\n"
     ]
    }
   ],
   "source": [
    "def sum(numbers):\n",
    "    total = 0\n",
    "    for x in numbers:\n",
    "        total += x\n",
    "    return total\n",
    "print(sum([20, 10, 20, 4, 10, 10, 8, 100]))"
   ]
  },
  {
   "cell_type": "code",
   "execution_count": 14,
   "id": "081bf47e",
   "metadata": {},
   "outputs": [
    {
     "name": "stdout",
     "output_type": "stream",
     "text": [
      "Sum of all elements in given list:  182\n"
     ]
    }
   ],
   "source": [
    "l = [20, 10, 20, 4, 10, 10, 8, 100]\n",
    " \n",
    "# using sum() function\n",
    "total = sum(l)\n",
    " \n",
    "# printing total value\n",
    "print(\"Sum of all elements in given list: \", total)"
   ]
  },
  {
   "cell_type": "markdown",
   "id": "ca05ad06",
   "metadata": {},
   "source": [
    "### 11. Write a program to find the common elements between two lists.\n"
   ]
  },
  {
   "cell_type": "code",
   "execution_count": 15,
   "id": "490146dc",
   "metadata": {},
   "outputs": [
    {
     "name": "stdout",
     "output_type": "stream",
     "text": [
      "The common elements in the two lists are: \n",
      "[10, 5, 2]\n"
     ]
    }
   ],
   "source": [
    "def common_member(a, b):\n",
    "    result = [i for i in a if i in b]\n",
    "    return result\n",
    " \n",
    "a = [6,8,10,9,5,4,2,1]\n",
    "b = [12,10,14,3,7,5,2]\n",
    " \n",
    "print(\"The common elements in the two lists are: \")\n",
    "print(common_member(a, b))"
   ]
  },
  {
   "cell_type": "markdown",
   "id": "681c1f99",
   "metadata": {},
   "source": [
    "### 12. Implement a function to check if a given string is an anagram of another string."
   ]
  },
  {
   "cell_type": "code",
   "execution_count": 16,
   "id": "d2a837ad",
   "metadata": {},
   "outputs": [
    {
     "name": "stdout",
     "output_type": "stream",
     "text": [
      "The strings are anagrams.\n"
     ]
    }
   ],
   "source": [
    "def check(a, b):    \n",
    "    # the sorted strings are checked\n",
    "    if(sorted(a)== sorted(b)):             # Using sorted() function\n",
    "        print(\"The strings are anagrams.\")\n",
    "    else:\n",
    "        print(\"The strings aren't anagrams.\")        \n",
    "         \n",
    "a =\"listen\"\n",
    "b =\"silent\"\n",
    "check(a, b)"
   ]
  },
  {
   "cell_type": "code",
   "execution_count": 17,
   "id": "fceaa3b2",
   "metadata": {},
   "outputs": [
    {
     "name": "stdout",
     "output_type": "stream",
     "text": [
      "The strings aren't anagrams.\n"
     ]
    }
   ],
   "source": [
    "a = \"dad\"\n",
    "b = \"bad\"\n",
    "check(a, b)"
   ]
  },
  {
   "cell_type": "markdown",
   "id": "6e40d2d4",
   "metadata": {},
   "source": [
    "### 13. Write a Python program to generate all permutations of a given string.\n"
   ]
  },
  {
   "cell_type": "code",
   "execution_count": 18,
   "id": "1583ed91",
   "metadata": {},
   "outputs": [
    {
     "name": "stdout",
     "output_type": "stream",
     "text": [
      "Enter the string : XYZ\n",
      "All possible strings are : \n",
      " XYZ   XZY   YXZ   YZX   ZXY   ZYX  "
     ]
    }
   ],
   "source": [
    "def permute(s, answer):\n",
    "    if (len(s) == 0):\n",
    "        print(answer, end = \"  \")\n",
    "        return\n",
    "     \n",
    "    for i in range(len(s)):\n",
    "        ch = s[i]\n",
    "        left_substr = s[0:i]\n",
    "        right_substr = s[i + 1:]\n",
    "        rest = left_substr + right_substr\n",
    "        permute(rest, answer + ch)\n",
    "answer = \" \"\n",
    "s = input(\"Enter the string : \")\n",
    "print(\"All possible strings are : \")\n",
    "permute(s, answer)"
   ]
  },
  {
   "cell_type": "markdown",
   "id": "4ee10d46",
   "metadata": {},
   "source": [
    "### 14.Implement a function to calculate the Fibonacci sequence up to a given number of terms"
   ]
  },
  {
   "cell_type": "code",
   "execution_count": 20,
   "id": "ef32d99d",
   "metadata": {},
   "outputs": [
    {
     "name": "stdout",
     "output_type": "stream",
     "text": [
      "Enter length of Fibonacci series: 10\n",
      "0 1 1 2 3 5 8 13 21 34 "
     ]
    }
   ],
   "source": [
    "n = int(input(\"Enter length of Fibonacci series: \"))\n",
    "num1 = 0\n",
    "num2 = 1\n",
    "next_number = 0\n",
    "count = 1\n",
    "  \n",
    "while(count <= n):\n",
    "    print(next_number, end=\" \")\n",
    "    count += 1\n",
    "    num1 = num2\n",
    "    num2 = next_number\n",
    "    next_number = num1 + num2\n",
    "    t_number = num1 + num2"
   ]
  },
  {
   "cell_type": "markdown",
   "id": "42b61d81",
   "metadata": {},
   "source": [
    "### 15. Write a program to find the median of a list of numbers.\n"
   ]
  },
  {
   "cell_type": "code",
   "execution_count": 21,
   "id": "5e54ec2a",
   "metadata": {},
   "outputs": [
    {
     "name": "stdout",
     "output_type": "stream",
     "text": [
      "The original list : [20, 10, 20, 4, 10, 10, 8, 100]\n",
      "Median of list is : 10.0\n"
     ]
    }
   ],
   "source": [
    "l = [20, 10, 20, 4, 10, 10, 8, 100]\n",
    " \n",
    "# printing list\n",
    "print(\"The original list : \" + str(l))\n",
    " \n",
    "# Median of list\n",
    "# Using loop + \"~\" operator\n",
    "l.sort()\n",
    "mid = len(l) // 2\n",
    "res = (l[mid] + l[~mid]) / 2\n",
    " \n",
    "# Printing result\n",
    "print(\"Median of list is : \" + str(res))"
   ]
  },
  {
   "cell_type": "code",
   "execution_count": 22,
   "id": "1319ac1d",
   "metadata": {},
   "outputs": [
    {
     "name": "stdout",
     "output_type": "stream",
     "text": [
      "The original list : [20, 10, 20, 4, 10, 10, 8, 100]\n",
      "Median of list is : 10.0\n"
     ]
    }
   ],
   "source": [
    "import statistics\n",
    " \n",
    "# initializing list\n",
    "l = [20, 10, 20, 4, 10, 10, 8, 100]\n",
    " \n",
    "# printing list\n",
    "print(\"The original list : \" + str(l))\n",
    " \n",
    "# Median of list\n",
    "# Using statistics.median()\n",
    "res = statistics.median(l)\n",
    " \n",
    "# Printing result\n",
    "print(\"Median of list is : \" + str(res))"
   ]
  },
  {
   "cell_type": "markdown",
   "id": "af820143",
   "metadata": {},
   "source": [
    "### 16. Implement a function to check if a given list is sorted in non-decreasing order.\n"
   ]
  },
  {
   "cell_type": "code",
   "execution_count": 23,
   "id": "0e5988cc",
   "metadata": {},
   "outputs": [
    {
     "data": {
      "text/plain": [
       "[20, 10, 20, 4, 10, 10, 8, 100]"
      ]
     },
     "execution_count": 23,
     "metadata": {},
     "output_type": "execute_result"
    }
   ],
   "source": [
    "l"
   ]
  },
  {
   "cell_type": "code",
   "execution_count": 24,
   "id": "2bed10fe",
   "metadata": {},
   "outputs": [],
   "source": [
    "l.sort()"
   ]
  },
  {
   "cell_type": "code",
   "execution_count": 25,
   "id": "9f338bc2",
   "metadata": {},
   "outputs": [
    {
     "data": {
      "text/plain": [
       "[4, 8, 10, 10, 10, 20, 20, 100]"
      ]
     },
     "execution_count": 25,
     "metadata": {},
     "output_type": "execute_result"
    }
   ],
   "source": [
    "l"
   ]
  },
  {
   "cell_type": "code",
   "execution_count": 26,
   "id": "d31eece1",
   "metadata": {},
   "outputs": [
    {
     "data": {
      "text/plain": [
       "False"
      ]
     },
     "execution_count": 26,
     "metadata": {},
     "output_type": "execute_result"
    }
   ],
   "source": [
    "l == sorted(l) and l == sorted(l, reverse=True)"
   ]
  },
  {
   "cell_type": "markdown",
   "id": "4f891140",
   "metadata": {},
   "source": [
    "#### False that mein List is not sorted."
   ]
  },
  {
   "cell_type": "code",
   "execution_count": 27,
   "id": "e072fada",
   "metadata": {},
   "outputs": [
    {
     "name": "stdout",
     "output_type": "stream",
     "text": [
      "Original list : [20, 10, 20, 4, 10, 10, 8, 100]\n",
      "No, List is not sorted.\n"
     ]
    }
   ],
   "source": [
    "l = [20, 10, 20, 4, 10, 10, 8, 100]\n",
    " # printing original list\n",
    "print (\"Original list : \" + str(l))\n",
    " \n",
    "# using sort() to\n",
    "# check sorted list\n",
    "flag = 0\n",
    "l1 = l[:]\n",
    "l1.sort()\n",
    "if (l1 == l):\n",
    "    flag = 1\n",
    "     \n",
    "# printing result\n",
    "if (flag) :\n",
    "    print (\"Yes, List is sorted.\")\n",
    "else :\n",
    "    print (\"No, List is not sorted.\")"
   ]
  },
  {
   "cell_type": "code",
   "execution_count": 28,
   "id": "4ed42ff1",
   "metadata": {},
   "outputs": [
    {
     "name": "stdout",
     "output_type": "stream",
     "text": [
      "Original list : [1, 3, 6, 8, 9, 10, 15]\n",
      "Yes, List is sorted.\n"
     ]
    }
   ],
   "source": [
    "l = [1,3,6,8,9,10,15]\n",
    " # printing original list\n",
    "print (\"Original list : \" + str(l))\n",
    " \n",
    "# using sort() to\n",
    "# check sorted list\n",
    "flag = 0\n",
    "l1 = l[:]\n",
    "l1.sort()\n",
    "if (l1 == l):\n",
    "    flag = 1\n",
    "     \n",
    "# printing result\n",
    "if (flag) :\n",
    "    print (\"Yes, List is sorted.\")\n",
    "else :\n",
    "    print (\"No, List is not sorted.\")"
   ]
  },
  {
   "cell_type": "markdown",
   "id": "1b56e2b0",
   "metadata": {},
   "source": [
    "### 17. Write a Python program to find the intersection of two lists.\n"
   ]
  },
  {
   "cell_type": "code",
   "execution_count": 29,
   "id": "2570d53b",
   "metadata": {},
   "outputs": [
    {
     "name": "stdout",
     "output_type": "stream",
     "text": [
      "[9, 11, 26, 28]\n"
     ]
    }
   ],
   "source": [
    "def intersection(a, b):\n",
    "    c = [value for value in a if value in b]\n",
    "    return c\n",
    " \n",
    "a = [4, 9, 1, 17, 11, 26, 28, 54, 69]\n",
    "b = [9, 9, 74, 21, 45, 11, 63, 28, 26]\n",
    "print(intersection(a, b))"
   ]
  },
  {
   "cell_type": "markdown",
   "id": "41df6bd3",
   "metadata": {},
   "source": [
    "### 18. Implement a function to find the maximum subarray sum in a given list."
   ]
  },
  {
   "cell_type": "code",
   "execution_count": 30,
   "id": "ae743f16",
   "metadata": {
    "scrolled": true
   },
   "outputs": [
    {
     "name": "stdout",
     "output_type": "stream",
     "text": [
      "Maximum subarray sum is 6\n"
     ]
    }
   ],
   "source": [
    "def maxSubArraySum(a,size):\n",
    "     \n",
    "    max_so_far =a[0]\n",
    "    curr_max = a[0]\n",
    "     \n",
    "    for i in range(1,size):\n",
    "        curr_max = max(a[i], curr_max + a[i])\n",
    "        max_so_far = max(max_so_far,curr_max)\n",
    "         \n",
    "    return max_so_far\n",
    " \n",
    "# Driver function to check the above function\n",
    "a = [-2, -3, -4, -1, -2, 1, 5, -3]\n",
    "print(\"Maximum subarray sum is\" , maxSubArraySum(a,len(a)))\n",
    " "
   ]
  },
  {
   "cell_type": "markdown",
   "id": "094273c0",
   "metadata": {},
   "source": [
    "### 19. Write a program to remove all vowels from a given string."
   ]
  },
  {
   "cell_type": "code",
   "execution_count": 31,
   "id": "d7a18dee",
   "metadata": {},
   "outputs": [
    {
     "name": "stdout",
     "output_type": "stream",
     "text": [
      "bhshk s lvng Pythn LL\n"
     ]
    }
   ],
   "source": [
    "import re\n",
    "def rem_vowel(string):\n",
    "    return (re.sub(\"[aeiouAEIOU]\",\"\",string))            \n",
    "  \n",
    "# Driver program\n",
    "string = \"Abhishek is loving Python LOL\"\n",
    "print(rem_vowel(string))"
   ]
  },
  {
   "cell_type": "markdown",
   "id": "8517b88f",
   "metadata": {},
   "source": [
    "### 20. Implement a function to reverse the order of words in a given sentence.\n"
   ]
  },
  {
   "cell_type": "code",
   "execution_count": 32,
   "id": "ae003a21",
   "metadata": {},
   "outputs": [],
   "source": [
    "l = \"This is a assignment giving by sunny sir \""
   ]
  },
  {
   "cell_type": "code",
   "execution_count": 33,
   "id": "6a91a0fc",
   "metadata": {},
   "outputs": [
    {
     "data": {
      "text/plain": [
       "['sir', 'sunny', 'by', 'giving', 'assignment', 'a', 'is', 'This']"
      ]
     },
     "execution_count": 33,
     "metadata": {},
     "output_type": "execute_result"
    }
   ],
   "source": [
    "l.split()[::-1]"
   ]
  },
  {
   "cell_type": "code",
   "execution_count": 34,
   "id": "09ca0d89",
   "metadata": {},
   "outputs": [
    {
     "name": "stdout",
     "output_type": "stream",
     "text": [
      "sir sunny by giving assignment a is This\n"
     ]
    }
   ],
   "source": [
    "l = \"This is a assignment giving by sunny sir \"\n",
    "# reversing words in a given string\n",
    "s = l.split()[::-1]\n",
    "l = []\n",
    "for i in s:\n",
    "    # appending reversed words to l\n",
    "    l.append(i)\n",
    "# printing reverse words\n",
    "print(\" \".join(l))"
   ]
  },
  {
   "cell_type": "markdown",
   "id": "0b46331a",
   "metadata": {},
   "source": [
    "### 21. Write a Python program to check if two strings are anagrams of each other.\n",
    "\n",
    "**Ans** same ans like question no 12\n"
   ]
  },
  {
   "cell_type": "code",
   "execution_count": 35,
   "id": "b4e7b3e1",
   "metadata": {},
   "outputs": [
    {
     "name": "stdout",
     "output_type": "stream",
     "text": [
      "The strings are anagrams.\n"
     ]
    }
   ],
   "source": [
    "def check(a, b):    \n",
    "    # the sorted strings are checked\n",
    "    if(sorted(a)== sorted(b)):             # Using sorted() function\n",
    "        print(\"The strings are anagrams.\")\n",
    "    else:\n",
    "        print(\"The strings aren't anagrams.\")        \n",
    "         \n",
    "a =\"listen\"\n",
    "b =\"silent\"\n",
    "check(a, b)"
   ]
  },
  {
   "cell_type": "code",
   "execution_count": 36,
   "id": "adafb857",
   "metadata": {},
   "outputs": [
    {
     "name": "stdout",
     "output_type": "stream",
     "text": [
      "The two strings are anagrams of each other\n"
     ]
    }
   ],
   "source": [
    "def check(a, b):    \n",
    "    # the sorted strings are checked\n",
    "    if(sorted(a)== sorted(b)):             # Using sorted() function\n",
    "        print(\"The two strings are anagrams of each other\")\n",
    "    else:\n",
    "        print(\"The strings aren't anagrams.\")        \n",
    "         \n",
    "a =\"neuron i\"\n",
    "b =\"i neuron\"\n",
    "check(a, b)"
   ]
  },
  {
   "cell_type": "markdown",
   "id": "fffbb6a6",
   "metadata": {},
   "source": [
    "### 22. Implement a function to find the first non-repeating character in a string."
   ]
  },
  {
   "cell_type": "code",
   "execution_count": 37,
   "id": "515c6c6a",
   "metadata": {},
   "outputs": [
    {
     "name": "stdout",
     "output_type": "stream",
     "text": [
      "First non-repeating character is T\n"
     ]
    }
   ],
   "source": [
    "def FirstNonRepeat(s):\n",
    " \n",
    "    for i in s:\n",
    "        if (s.find(i, (s.find(i)+1))) == -1:\n",
    "            print(\"First non-repeating character is\", i)\n",
    "            break\n",
    " \n",
    "    return \n",
    "# __main__\n",
    "s = 'This is a assignment giving by sunny sir'\n",
    " \n",
    "FirstNonRepeat(s)"
   ]
  },
  {
   "cell_type": "code",
   "execution_count": 38,
   "id": "08521bc2",
   "metadata": {},
   "outputs": [
    {
     "name": "stdout",
     "output_type": "stream",
     "text": [
      "First non-repeating character is b\n"
     ]
    }
   ],
   "source": [
    "s = 'abahiashaesa'\n",
    " \n",
    "FirstNonRepeat(s)"
   ]
  },
  {
   "cell_type": "markdown",
   "id": "824dc7a1",
   "metadata": {},
   "source": [
    "### 23. Write a program to find the prime factors of a given number.\n"
   ]
  },
  {
   "cell_type": "code",
   "execution_count": 39,
   "id": "b52b0d5b",
   "metadata": {},
   "outputs": [
    {
     "name": "stdout",
     "output_type": "stream",
     "text": [
      "[3, 5]\n"
     ]
    }
   ],
   "source": [
    "def Prime_Factorial(n):\n",
    "    if n < 4:\n",
    "        return n\n",
    "    arr = []\n",
    "    while n > 1:\n",
    "        for i in range(2, int(2+n//2)):\n",
    "            if i == (1 + n // 2):\n",
    "                arr.append(n)\n",
    "                n = n // n\n",
    "            if n % i == 0:\n",
    "                arr.append(i)\n",
    "                n = n // i\n",
    "                break\n",
    "    return arr\n",
    "\n",
    "n = 15\n",
    "print(Prime_Factorial(n))"
   ]
  },
  {
   "cell_type": "markdown",
   "id": "eaddbe11",
   "metadata": {},
   "source": [
    "### 24. Implement a function to check if a given number is a power of two."
   ]
  },
  {
   "cell_type": "code",
   "execution_count": 40,
   "id": "78d05334",
   "metadata": {},
   "outputs": [
    {
     "name": "stdout",
     "output_type": "stream",
     "text": [
      "No\n",
      "Yes\n"
     ]
    }
   ],
   "source": [
    "import math\n",
    " \n",
    "# Function to check\n",
    "# Log base 2\n",
    "def Log2(x):\n",
    "    return (math.log10(x) /\n",
    "            math.log10(2));\n",
    " \n",
    "# Function to check\n",
    "# if x is power of 2\n",
    "def isPowerOfTwo(n):\n",
    "    return (math.ceil(Log2(n)) == math.floor(Log2(n)));\n",
    " \n",
    "if(isPowerOfTwo(31)):\n",
    "    print(\"Yes\")\n",
    "else:\n",
    "    print(\"No\")\n",
    "\n",
    "if(isPowerOfTwo(64)):\n",
    "    print(\"Yes\")\n",
    "else:\n",
    "    print(\"No\")"
   ]
  },
  {
   "cell_type": "markdown",
   "id": "163fb79d",
   "metadata": {},
   "source": [
    "### 25. Write a Python program to merge two sorted lists into a single sorted list.     "
   ]
  },
  {
   "cell_type": "code",
   "execution_count": 41,
   "id": "ebc4e685",
   "metadata": {},
   "outputs": [
    {
     "name": "stdout",
     "output_type": "stream",
     "text": [
      "The original list 1 is : [1, 5, 6, 9, 11]\n",
      "The original list 2 is : [6, 8, 10, 13, 15]\n",
      "The merge two sorted list is : [1, 5, 6, 6, 8, 9, 10, 11, 13, 15]\n"
     ]
    }
   ],
   "source": [
    "l1 = [1, 5, 6, 9, 11]\n",
    "l2 = [6, 8, 10, 13, 15]\n",
    " \n",
    "# printing original lists\n",
    "print (\"The original list 1 is : \" + str(l1))\n",
    "print (\"The original list 2 is : \" + str(l2))\n",
    " \n",
    "# using sorted()\n",
    "# to combine two sorted lists\n",
    "res = sorted(l1 + l2)\n",
    " \n",
    "# printing result\n",
    "print (\"The merge two sorted list is : \" + str(res))"
   ]
  },
  {
   "cell_type": "code",
   "execution_count": 42,
   "id": "dc73ad61",
   "metadata": {},
   "outputs": [
    {
     "name": "stdout",
     "output_type": "stream",
     "text": [
      "The merge two sorted list is [1, 2, 3, 4, 5, 6, 7, 8]\n"
     ]
    }
   ],
   "source": [
    "import heapq\n",
    "\n",
    "def merge_sorted_lists(l1, l2):\n",
    "    merged_list = list(heapq.merge(l1, l2))\n",
    "    return merged_list\n",
    "\n",
    "# Example usage\n",
    "l1 = [1, 3, 5, 7]\n",
    "l2 = [2, 4, 6, 8]\n",
    "merged_list = merge_sorted_lists(l1, l2)\n",
    "print(\"The merge two sorted list is\",merged_list)"
   ]
  },
  {
   "cell_type": "markdown",
   "id": "3c780769",
   "metadata": {},
   "source": [
    "### 26.Implement a function to find the mode of a list of numbers."
   ]
  },
  {
   "cell_type": "code",
   "execution_count": 43,
   "id": "25d274a5",
   "metadata": {},
   "outputs": [
    {
     "name": "stdout",
     "output_type": "stream",
     "text": [
      "[30]\n"
     ]
    }
   ],
   "source": [
    "def findMode(inList):\n",
    "    modeList = {}\n",
    "    for item in inList:\n",
    "        if item in modeList:\n",
    "            modeList[item] += 1\n",
    "        else:\n",
    "            modeList[item] = 1\n",
    "    return [key for key in modeList.keys() if modeList[key] == max(modeList.values())]\n",
    "myList = [10, 20, 20, 30, 30 ,30, 40]\n",
    "print(findMode(myList))"
   ]
  },
  {
   "cell_type": "code",
   "execution_count": 44,
   "id": "c24606cc",
   "metadata": {},
   "outputs": [
    {
     "data": {
      "text/plain": [
       "30"
      ]
     },
     "execution_count": 44,
     "metadata": {},
     "output_type": "execute_result"
    }
   ],
   "source": [
    "myList = [10, 20, 20, 30, 30 ,30, 40]\n",
    "max(set(myList), key=myList.count)\n"
   ]
  },
  {
   "cell_type": "markdown",
   "id": "40f91faf",
   "metadata": {},
   "source": [
    "### 27. Write a program to find the greatest common divisor (GCD) of two numbers.\n"
   ]
  },
  {
   "cell_type": "code",
   "execution_count": 45,
   "id": "364e25b5",
   "metadata": {},
   "outputs": [
    {
     "name": "stdout",
     "output_type": "stream",
     "text": [
      "The gcd of 50 and 18 is : 2\n"
     ]
    }
   ],
   "source": [
    "def hcf(a, b):\n",
    "    if(b == 0):\n",
    "        return a\n",
    "    else:\n",
    "        return hcf(b, a % b)\n",
    "a = 50\n",
    "b = 18\n",
    " \n",
    "\n",
    "print(\"The gcd of 50 and 18 is : \", end=\"\")\n",
    "print(hcf(50, 18))"
   ]
  },
  {
   "cell_type": "code",
   "execution_count": 46,
   "id": "9e125026",
   "metadata": {},
   "outputs": [
    {
     "name": "stdout",
     "output_type": "stream",
     "text": [
      "The gcd of 50 and 80 is: 10\n"
     ]
    }
   ],
   "source": [
    "gcd = lambda a, b: a if b == 0 else gcd(b, a % b)\n",
    " \n",
    "a = 50\n",
    "b = 80\n",
    " \n",
    "# Prints 12\n",
    "print(\"The gcd of 50 and 80 is:\", gcd(a, b))"
   ]
  },
  {
   "cell_type": "markdown",
   "id": "bbd8de2c",
   "metadata": {},
   "source": [
    "### 28. Implement a function to calculate the square root of a given number.\n"
   ]
  },
  {
   "cell_type": "code",
   "execution_count": 47,
   "id": "1141536c",
   "metadata": {},
   "outputs": [
    {
     "name": "stdout",
     "output_type": "stream",
     "text": [
      "3\n"
     ]
    }
   ],
   "source": [
    "def floorSqrt(x):\n",
    " \n",
    "    # Base cases\n",
    "    if (x == 0 or x == 1):\n",
    "        return x\n",
    "    # i*i is greater than or equal to x.\n",
    "    i = 1\n",
    "    result = 1\n",
    "    while (result <= x):\n",
    " \n",
    "        i += 1\n",
    "        result = i * i\n",
    " \n",
    "    return i - 1\n",
    " \n",
    "x = 10\n",
    "print(floorSqrt(x))"
   ]
  },
  {
   "cell_type": "code",
   "execution_count": 48,
   "id": "f273c963",
   "metadata": {},
   "outputs": [
    {
     "name": "stdout",
     "output_type": "stream",
     "text": [
      "3\n"
     ]
    }
   ],
   "source": [
    "def countSquares(x):\n",
    "    sqrt = x**0.5\n",
    "    result = int(sqrt)\n",
    "    return result\n",
    " \n",
    "x = 10\n",
    "print(countSquares(x))"
   ]
  },
  {
   "cell_type": "markdown",
   "id": "bd8fbeab",
   "metadata": {},
   "source": [
    "### 29. Write a Python program to check if a given string is a valid palindrome ignoring non-alphanumeric characters.\n",
    "**Ans** same as question no 2 \n"
   ]
  },
  {
   "cell_type": "code",
   "execution_count": 49,
   "id": "1c0be87e",
   "metadata": {},
   "outputs": [
    {
     "name": "stdout",
     "output_type": "stream",
     "text": [
      "No\n"
     ]
    }
   ],
   "source": [
    "def isPalindrome(s):\n",
    "    return s == s[::-1]\n",
    " \n",
    "s = \"1qf2mpand10\"\n",
    "ans = isPalindrome(s)\n",
    " \n",
    "if ans:\n",
    "    print(\"Yes\")\n",
    "else:\n",
    "    print(\"No\")"
   ]
  },
  {
   "cell_type": "code",
   "execution_count": 50,
   "id": "a3521639",
   "metadata": {},
   "outputs": [
    {
     "name": "stdout",
     "output_type": "stream",
     "text": [
      "Yes this is a palindrome\n"
     ]
    }
   ],
   "source": [
    "def isPalindrome(s):\n",
    "    return s == s[::-1]\n",
    " \n",
    "s = \"malayalam\"\n",
    "ans = isPalindrome(s)\n",
    " \n",
    "if ans:\n",
    "    print(\"Yes this is a palindrome\")\n",
    "else:\n",
    "    print(\"No this is a not palindrome\")"
   ]
  },
  {
   "cell_type": "code",
   "execution_count": 51,
   "id": "8b80e8ab",
   "metadata": {},
   "outputs": [
    {
     "name": "stdout",
     "output_type": "stream",
     "text": [
      "Yes this is a palindrome\n"
     ]
    }
   ],
   "source": [
    "def isPalindrome(s):\n",
    "    return s == s[::-1]\n",
    " \n",
    "s = \"888888\"\n",
    "ans = isPalindrome(s)\n",
    " \n",
    "if ans:\n",
    "    print(\"Yes this is a palindrome\")\n",
    "else:\n",
    "    print(\"No this is a not palindrome\")"
   ]
  },
  {
   "cell_type": "markdown",
   "id": "4188add6",
   "metadata": {},
   "source": [
    "### 30. Implement a function to find the minimum element in a rotated sorted list.\n"
   ]
  },
  {
   "cell_type": "code",
   "execution_count": 52,
   "id": "08f92e01",
   "metadata": {},
   "outputs": [
    {
     "name": "stdout",
     "output_type": "stream",
     "text": [
      "1\n"
     ]
    }
   ],
   "source": [
    "def findMin(arr, N):\n",
    "     \n",
    "    min_ele = arr[0];\n",
    " \n",
    "    # Traversing over array to\n",
    "    # find minimum element\n",
    "    for i in range(N) :\n",
    "        if arr[i] < min_ele :\n",
    "            min_ele = arr[i]\n",
    " \n",
    "    return min_ele;\n",
    "\n",
    "arr = [5, 6, 1, 2, 7, 4]\n",
    "N = len(arr)\n",
    " \n",
    "print(findMin(arr,N))"
   ]
  },
  {
   "cell_type": "markdown",
   "id": "7a30688b",
   "metadata": {},
   "source": [
    "### 31. Write a program to find the sum of all even numbers in a list.\n"
   ]
  },
  {
   "cell_type": "code",
   "execution_count": 53,
   "id": "79aaee27",
   "metadata": {},
   "outputs": [
    {
     "name": "stdout",
     "output_type": "stream",
     "text": [
      "The original list is : [2, 5, 89, 3, 1, 7, 9, 6, 43, 233, 4, 68, 9, 1]\n",
      "Even digit sum : 40\n"
     ]
    }
   ],
   "source": [
    "test_list = [2,5,89,3,1,7,9,6,43,233,4,68,9,1]\n",
    " \n",
    "# printing original list\n",
    "print(\"The original list is : \" + str(test_list))\n",
    " \n",
    "even_sum = 0\n",
    " \n",
    "for sub in test_list:\n",
    " \n",
    "    # sum() used to get summation of even elements\n",
    "    even_sum += sum([int(ele) for ele in str(sub) if int(ele) % 2 == 0])\n",
    "\n",
    "print(\"Even digit sum : \" + str(even_sum))"
   ]
  },
  {
   "cell_type": "code",
   "execution_count": 54,
   "id": "d085b433",
   "metadata": {},
   "outputs": [
    {
     "name": "stdout",
     "output_type": "stream",
     "text": [
      "The original list is : [2, 5, 89, 3, 1, 7, 9, 6, 43, 233, 4, 68, 9, 1]\n",
      "Odd digit sum : 53\n",
      "Even digit sum : 40\n"
     ]
    }
   ],
   "source": [
    "# we are also print odd and even numbers list \n",
    "test_list = [2,5,89,3,1,7,9,6,43,233,4,68,9,1]\n",
    " \n",
    "# printing original list\n",
    "print(\"The original list is : \" + str(test_list))\n",
    " \n",
    "odd_sum = 0\n",
    "even_sum = 0\n",
    " \n",
    "for sub in test_list:\n",
    " \n",
    "    # sum() used to get summation of even and odd elements\n",
    "    odd_sum += sum([int(ele) for ele in str(sub) if int(ele) % 2 == 1])\n",
    "    even_sum += sum([int(ele) for ele in str(sub) if int(ele) % 2 == 0])\n",
    "    \n",
    "print(\"Odd digit sum : \" + str(odd_sum))\n",
    "print(\"Even digit sum : \" + str(even_sum))"
   ]
  },
  {
   "cell_type": "markdown",
   "id": "e5be9bf1",
   "metadata": {},
   "source": [
    "### 32. Implement a function to calculate the power of a number using recursion.\n"
   ]
  },
  {
   "cell_type": "code",
   "execution_count": 55,
   "id": "a8a28543",
   "metadata": {},
   "outputs": [
    {
     "name": "stdout",
     "output_type": "stream",
     "text": [
      "4096\n"
     ]
    }
   ],
   "source": [
    "def power(N, P):\n",
    " \n",
    "    # If power is 0 then return 1\n",
    "    if P == 0:\n",
    "        return 1\n",
    " \n",
    "    # Recurrence relation\n",
    "    if P%2 == 0:\n",
    "        result = power(N, P//2)\n",
    "        return result * result\n",
    "    else :\n",
    "        result = power(N, (P-1)//2)\n",
    "        return N * result * result \n",
    "    \n",
    "if __name__ == '__main__':\n",
    "    N = 8\n",
    "    P = 4\n",
    " \n",
    "    print(power(N, P))"
   ]
  },
  {
   "cell_type": "markdown",
   "id": "a83a6b66",
   "metadata": {},
   "source": [
    "### 33. Write a Python program to remove duplicates from a list while preserving the order."
   ]
  },
  {
   "cell_type": "code",
   "execution_count": 56,
   "id": "2fd568b3",
   "metadata": {},
   "outputs": [
    {
     "name": "stdout",
     "output_type": "stream",
     "text": [
      "List with duplicates removed: [6, 2, 5, 7, 3, 1, 78, 0, 67, 93]\n"
     ]
    }
   ],
   "source": [
    "def remove_duplicates(l):\n",
    "    seen = set()\n",
    "    result = []\n",
    "\n",
    "    for item in l:\n",
    "        if item not in seen:\n",
    "            seen.add(item)\n",
    "            result.append(item)\n",
    "\n",
    "    return result\n",
    "\n",
    "# Test the function\n",
    "l = [6,2,5,6,7,2,5,6,3,1,78,0,2,67,1,6,93,]\n",
    "updated_l = remove_duplicates(l)\n",
    "print(\"List with duplicates removed:\", updated_l)"
   ]
  },
  {
   "cell_type": "markdown",
   "id": "2cf6baf4",
   "metadata": {},
   "source": [
    "### 34. Implement a function to find the longest common prefix among a list of strings.\n"
   ]
  },
  {
   "cell_type": "code",
   "execution_count": 57,
   "id": "2aa9b986",
   "metadata": {},
   "outputs": [
    {
     "name": "stdout",
     "output_type": "stream",
     "text": [
      "The longest Common Prefix is : fl\n"
     ]
    }
   ],
   "source": [
    "def longestCommonPrefix( a):\n",
    "     \n",
    "    size = len(a)\n",
    "    # if size is 0, return empty string\n",
    "    if (size == 0):\n",
    "        return \"\"\n",
    " \n",
    "    if (size == 1):\n",
    "        return a[0]\n",
    "    # sort the array of strings\n",
    "    a.sort()\n",
    "     \n",
    "    # find the minimum length from\n",
    "    # first and last string\n",
    "    end = min(len(a[0]), len(a[size - 1]))\n",
    " \n",
    "    # find the common prefix between\n",
    "    # the first and last string\n",
    "    i = 0\n",
    "    while (i < end and\n",
    "           a[0][i] == a[size - 1][i]):\n",
    "        i += 1\n",
    " \n",
    "    pre = a[0][0: i]\n",
    "    return pre\n",
    " \n",
    "# Driver Code\n",
    "if __name__ == \"__main__\":\n",
    " \n",
    "    input = [\"flower\", \"flow\", \"flight\", \"flying\" ]\n",
    "    print(\"The longest Common Prefix is :\" , longestCommonPrefix(input)) "
   ]
  },
  {
   "cell_type": "markdown",
   "id": "bdf1a362",
   "metadata": {},
   "source": [
    "### 35. Write a program to check if a given number is a perfect square.\n"
   ]
  },
  {
   "cell_type": "code",
   "execution_count": 58,
   "id": "13d7c47f",
   "metadata": {},
   "outputs": [
    {
     "name": "stdout",
     "output_type": "stream",
     "text": [
      "perfect square\n"
     ]
    }
   ],
   "source": [
    "import math\n",
    " \n",
    "def checkperfectsquare(x):\n",
    "    # If ceil and floor are equal\n",
    "    # the number is a perfect\n",
    "    # square\n",
    "    if (math.ceil(math.sqrt(n)) ==\n",
    "       math.floor(math.sqrt(n))):\n",
    "        print(\"perfect square\")\n",
    "    else:\n",
    "        print(\"not a perfect square\")\n",
    "        \n",
    "n = 2500\n",
    "  \n",
    "checkperfectsquare(n)"
   ]
  },
  {
   "cell_type": "code",
   "execution_count": 59,
   "id": "70f3e0fb",
   "metadata": {},
   "outputs": [
    {
     "name": "stdout",
     "output_type": "stream",
     "text": [
      "Yes perfect square\n"
     ]
    }
   ],
   "source": [
    "n = 2500\n",
    " \n",
    "for i in range(n+1):\n",
    "    if i**2 == n:\n",
    "        print(\"Yes perfect square\")\n",
    "        break\n",
    "else:\n",
    "    print(\"not a perfect square\")"
   ]
  },
  {
   "cell_type": "markdown",
   "id": "9c1d89ba",
   "metadata": {},
   "source": [
    "### 36. Implement a function to calculate the product of all elements in a list.\n"
   ]
  },
  {
   "cell_type": "code",
   "execution_count": 60,
   "id": "f9049fbe",
   "metadata": {},
   "outputs": [
    {
     "name": "stdout",
     "output_type": "stream",
     "text": [
      "1920\n"
     ]
    }
   ],
   "source": [
    "from functools import reduce\n",
    "l = [1,5,4,8,3,4,]\n",
    "\n",
    "resultl = reduce((lambda x, y: x * y), l)      # Using lambda function \n",
    "print(resultl)\n"
   ]
  },
  {
   "cell_type": "code",
   "execution_count": 61,
   "id": "db6f329f",
   "metadata": {},
   "outputs": [
    {
     "name": "stdout",
     "output_type": "stream",
     "text": [
      "1920\n"
     ]
    }
   ],
   "source": [
    "import math\n",
    "l = [1,5,4,8,3,4,]\n",
    "  \n",
    "resultl = math.prod(l)       # Using prod function of math library\n",
    "print(resultl)\n"
   ]
  },
  {
   "cell_type": "markdown",
   "id": "4c63b291",
   "metadata": {},
   "source": [
    "### 37. Write a Python program to reverse the order of words in a sentence while preserving the word order.\n",
    "**ANS** same ans like question no 20"
   ]
  },
  {
   "cell_type": "code",
   "execution_count": 62,
   "id": "c8e8aabd",
   "metadata": {},
   "outputs": [
    {
     "name": "stdout",
     "output_type": "stream",
     "text": [
      "coding python love i\n"
     ]
    }
   ],
   "source": [
    "def rev_sentence(sentence):\n",
    "    words = sentence.split(' ')         # first split the string into words\n",
    "    reverse_sentence = ' '.join(reversed(words))   # then reverse the split string list and join using space\n",
    " \n",
    "    # finally return the joined string\n",
    "    return reverse_sentence\n",
    " \n",
    "if __name__ == \"__main__\":\n",
    "    input = 'i love python coding'\n",
    "    print (rev_sentence(input))"
   ]
  },
  {
   "cell_type": "code",
   "execution_count": 63,
   "id": "cb013111",
   "metadata": {},
   "outputs": [
    {
     "name": "stdout",
     "output_type": "stream",
     "text": [
      "coding python love i\n"
     ]
    }
   ],
   "source": [
    "l = \"i love python coding\"\n",
    "# reversing words in a given string\n",
    "s = l.split()[::-1]\n",
    "l = []\n",
    "for i in s:\n",
    "    # appending reversed words to l\n",
    "    l.append(i)\n",
    "# printing reverse words\n",
    "print(\" \".join(l))"
   ]
  },
  {
   "cell_type": "markdown",
   "id": "b15dff15",
   "metadata": {},
   "source": [
    "### 39. Write a program to find the sum of digits of a given number.\n"
   ]
  },
  {
   "cell_type": "code",
   "execution_count": 64,
   "id": "9f35422d",
   "metadata": {},
   "outputs": [
    {
     "name": "stdout",
     "output_type": "stream",
     "text": [
      "13\n"
     ]
    }
   ],
   "source": [
    "def getSum(n):\n",
    " \n",
    "    sum = 0\n",
    "    while (n != 0):\n",
    " \n",
    "        sum = sum + int(n % 10)\n",
    "        n = int(n/10)\n",
    " \n",
    "    return sum\n",
    " \n",
    "if __name__ == \"__main__\":\n",
    "    n = 256\n",
    " \n",
    "    # Function call\n",
    "    print(getSum(n))"
   ]
  },
  {
   "cell_type": "code",
   "execution_count": 65,
   "id": "3eadfd01",
   "metadata": {},
   "outputs": [
    {
     "name": "stdout",
     "output_type": "stream",
     "text": [
      "13\n"
     ]
    }
   ],
   "source": [
    "def sumDigits(no):\n",
    "    return 0 if no == 0 else int(no % 10) + sumDigits(int(no/10))\n",
    " \n",
    "if __name__ == \"__main__\":\n",
    " \n",
    "    # Function call\n",
    "    print(sumDigits(256))"
   ]
  },
  {
   "cell_type": "markdown",
   "id": "0d763171",
   "metadata": {},
   "source": [
    "### 40. Implement a function to check if a given string is a valid palindrome considering case sensitivity."
   ]
  },
  {
   "cell_type": "code",
   "execution_count": 66,
   "id": "df2884b1",
   "metadata": {},
   "outputs": [
    {
     "name": "stdout",
     "output_type": "stream",
     "text": [
      "No\n"
     ]
    }
   ],
   "source": [
    "def isPalindrome(s):\n",
    "    rev = ''.join(reversed(s))\n",
    "    if (s == rev):\n",
    "        return True\n",
    "    return False\n",
    " \n",
    "# main function\n",
    "s = \"MalaYaLam\"\n",
    "ans = isPalindrome(s)\n",
    " \n",
    "if (ans):\n",
    "    print(\"Yes\")\n",
    "else:\n",
    "    print(\"No\")"
   ]
  },
  {
   "cell_type": "code",
   "execution_count": 67,
   "id": "d75d2126",
   "metadata": {},
   "outputs": [
    {
     "name": "stdout",
     "output_type": "stream",
     "text": [
      "Yes this is a palindrome\n"
     ]
    }
   ],
   "source": [
    "def isPalindrome(s):\n",
    " \n",
    "    # to change it the string is similar case\n",
    "    s = s.lower()\n",
    "    # length of s\n",
    "    l = len(s)\n",
    " \n",
    "    # if length is less than 2\n",
    "    if l < 2:\n",
    "        return True\n",
    " \n",
    "    # If s[0] and s[l-1] are equal\n",
    "    elif s[0] == s[l - 1]:\n",
    " \n",
    "        # Call is palindrome form substring(1,l-1)\n",
    "        return isPalindrome(s[1: l - 1])\n",
    " \n",
    "    else:\n",
    "        return False\n",
    "\n",
    "s = \"7777\"\n",
    "ans = isPalindrome(s)\n",
    " \n",
    "if ans:\n",
    "    print(\"Yes this is a palindrome\")\n",
    "else:\n",
    "    print(\"No this is a not palindrome\")"
   ]
  },
  {
   "cell_type": "markdown",
   "id": "6130cdb2",
   "metadata": {},
   "source": [
    "### 41. Write a Python program to find the smallest missing positive integer in a list."
   ]
  },
  {
   "cell_type": "code",
   "execution_count": 68,
   "id": "95ba5070",
   "metadata": {},
   "outputs": [
    {
     "name": "stdout",
     "output_type": "stream",
     "text": [
      "Smallest missing element is 8\n"
     ]
    }
   ],
   "source": [
    "def findFirstMissing(arr, n, m):\n",
    "    vec = [0] * m\n",
    "  \n",
    "    for i in range(n):\n",
    "        vec[arr[i]] = 1\n",
    "          \n",
    "    for i in range(m):\n",
    "        if vec[i] == 0:\n",
    "            return i\n",
    "              \n",
    "    return m\n",
    "  \n",
    "arr = [0, 1, 2, 3, 4, 5, 6, 7, 10]\n",
    "n = len(arr)\n",
    "m = 11\n",
    "print(\"Smallest missing element is\", findFirstMissing(arr, n, m))"
   ]
  },
  {
   "cell_type": "markdown",
   "id": "97498397",
   "metadata": {},
   "source": [
    "### 42. Implement a function to find the longest palindrome substring in a given string."
   ]
  },
  {
   "cell_type": "code",
   "execution_count": 69,
   "id": "196921ae",
   "metadata": {},
   "outputs": [
    {
     "name": "stdout",
     "output_type": "stream",
     "text": [
      "DDJDD\n"
     ]
    }
   ],
   "source": [
    "class Solution(object):\n",
    "    def longestPalindrome(self, s):\n",
    "        dp = [[False for i in range(len(s))] for i in range(len(s))]\n",
    "        for i in range(len(s)):\n",
    "            dp[i][i] = True\n",
    "        max_length = 1\n",
    "        start = 0\n",
    "        for l in range(2,len(s)+1):\n",
    "            for i in range(len(s)-l+1):\n",
    "                end = i+l\n",
    "                if l==2:\n",
    "                    if s[i] == s[end-1]:\n",
    "                        dp[i][end-1]=True\n",
    "                        max_length = l\n",
    "                        start = i\n",
    "                else:\n",
    "                    if s[i] == s[end-1] and dp[i+1][end-4]:\n",
    "                        dp[i][end-1]=True\n",
    "                        max_length = l\n",
    "                        start = i\n",
    "        return s[start:start+max_length]\n",
    "ob1 = Solution()\n",
    "print(ob1.longestPalindrome(\"BDDJDDIWE\"))"
   ]
  },
  {
   "cell_type": "markdown",
   "id": "b5c6b715",
   "metadata": {},
   "source": [
    "### 43. Write a program to find the number of occurrences of a given element in a list."
   ]
  },
  {
   "cell_type": "code",
   "execution_count": 70,
   "id": "3be99fb6",
   "metadata": {},
   "outputs": [
    {
     "name": "stdout",
     "output_type": "stream",
     "text": [
      "8 has occurred 5 times\n"
     ]
    }
   ],
   "source": [
    "def countX(lst, x):\n",
    "    count = 0\n",
    "    for ele in lst:\n",
    "        if (ele == x):\n",
    "            count = count + 1\n",
    "    return count\n",
    "  \n",
    "lst = [8, 6, 8, 10, 8, 20, 10, 8, 8]\n",
    "x = 8\n",
    "print('{} has occurred {} times'.format(x,countX(lst, x)))"
   ]
  },
  {
   "cell_type": "code",
   "execution_count": 71,
   "id": "1a416986",
   "metadata": {},
   "outputs": [
    {
     "data": {
      "text/plain": [
       "2"
      ]
     },
     "execution_count": 71,
     "metadata": {},
     "output_type": "execute_result"
    }
   ],
   "source": [
    "lst = [8, 6, 8, 10, 8, 20, 10, 8, 8]\n",
    "lst.count(10)"
   ]
  },
  {
   "cell_type": "markdown",
   "id": "ecc69be8",
   "metadata": {},
   "source": [
    "### 44. Implement a function to check if a given number is a perfect number."
   ]
  },
  {
   "cell_type": "code",
   "execution_count": 72,
   "id": "6045628e",
   "metadata": {},
   "outputs": [
    {
     "name": "stdout",
     "output_type": "stream",
     "text": [
      "True\n"
     ]
    }
   ],
   "source": [
    "def perfect_number(n):\n",
    "    sum = 0\n",
    "    for x in range(1, n):\n",
    "        if n % x == 0:\n",
    "            sum += x\n",
    "    return sum == n\n",
    "\n",
    "print(perfect_number(6))\n",
    "\n"
   ]
  },
  {
   "cell_type": "markdown",
   "id": "4f9b431c",
   "metadata": {},
   "source": [
    "### 45. Write a Python program to remove all duplicates from a string."
   ]
  },
  {
   "cell_type": "code",
   "execution_count": 73,
   "id": "38d32cbc",
   "metadata": {},
   "outputs": [
    {
     "name": "stdout",
     "output_type": "stream",
     "text": [
      "khabsie\n"
     ]
    }
   ],
   "source": [
    "def removeDuplicate(str, n):\n",
    "    s = set()\n",
    "     \n",
    "    # Create a set using String characters\n",
    "    for i in str:\n",
    "        s.add(i)\n",
    " \n",
    "    # Print content of the set\n",
    "    st = \"\"\n",
    "    for i in s:\n",
    "        st = st+i\n",
    "    return st\n",
    " \n",
    "str = \"abhbaiasahaeaika\"\n",
    "n = len(str)\n",
    "print(removeDuplicate(list(str), n))"
   ]
  },
  {
   "cell_type": "markdown",
   "id": "2b1bcb22",
   "metadata": {},
   "source": [
    "### 46. Implement a function to find the first missing positive"
   ]
  },
  {
   "cell_type": "code",
   "execution_count": 74,
   "id": "78e2a82c",
   "metadata": {},
   "outputs": [
    {
     "name": "stdout",
     "output_type": "stream",
     "text": [
      "1\n"
     ]
    }
   ],
   "source": [
    "class Solution(object):\n",
    "    def firstMissingPositive(self, nums):\n",
    "        i = 0\n",
    "        nums = [0] + nums\n",
    "        for i in range(len(nums)):\n",
    "            while nums[i]>=0 and nums[i]<len(nums) and nums[nums[i]]!=nums[i]:\n",
    "                nums[nums[i]],nums[i] = nums[i],nums[nums[i]]\n",
    "        num = 1\n",
    "        for i in range(1,len(nums)):\n",
    "            if num == nums[i]:\n",
    "                num+=1\n",
    "        return num\n",
    "ob = Solution()\n",
    "print(ob.firstMissingPositive([0, 10, 2, -10, -20]))"
   ]
  },
  {
   "cell_type": "code",
   "execution_count": null,
   "id": "87bd380e",
   "metadata": {},
   "outputs": [],
   "source": []
  }
 ],
 "metadata": {
  "kernelspec": {
   "display_name": "Python 3 (ipykernel)",
   "language": "python",
   "name": "python3"
  },
  "language_info": {
   "codemirror_mode": {
    "name": "ipython",
    "version": 3
   },
   "file_extension": ".py",
   "mimetype": "text/x-python",
   "name": "python",
   "nbconvert_exporter": "python",
   "pygments_lexer": "ipython3",
   "version": "3.9.7"
  }
 },
 "nbformat": 4,
 "nbformat_minor": 5
}
