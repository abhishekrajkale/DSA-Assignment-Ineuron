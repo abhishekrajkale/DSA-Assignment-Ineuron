{
 "cells": [
  {
   "cell_type": "markdown",
   "id": "3ca23fa7",
   "metadata": {},
   "source": [
    "## Assignment 10 - Recursion"
   ]
  },
  {
   "cell_type": "markdown",
   "id": "931e3fd5",
   "metadata": {},
   "source": [
    "### Question 1 Given an integer n , return true if it is a power of three. Otherwise, return false . An integer n is a power of three, if there exists an integer x such that n == 3x .\n",
    "```\n",
    "Example 1:\n",
    "Input: n = 27\n",
    "Output: true\n",
    "Explanation: 27 = 33\n",
    "```\n",
    "```\n",
    "Example 2:\n",
    "Input: n = 0\n",
    "Output: false\n",
    "Explanation: There is no x where 3x = 0.\n",
    "```\n",
    "\n",
    "Example 3: Input: n = -1 Output: false Explanation: There is no x where 3x = (-1)."
   ]
  },
  {
   "cell_type": "code",
   "execution_count": 1,
   "id": "0e9c95fa",
   "metadata": {},
   "outputs": [
    {
     "name": "stdout",
     "output_type": "stream",
     "text": [
      "True\n",
      "False\n"
     ]
    }
   ],
   "source": [
    "def isPowerOfThree(n):\n",
    "    if n <= 0:\n",
    "        return False\n",
    "    while n % 3 == 0:\n",
    "        n /= 3\n",
    "    return n == 1\n",
    "\n",
    "print(isPowerOfThree(27)) # Output: True\n",
    "print(isPowerOfThree(0)) # Output: False"
   ]
  },
  {
   "cell_type": "markdown",
   "id": "a4e341fb",
   "metadata": {},
   "source": [
    "### Question 2 you have a list arr of all integers in the range [1, n] sorted in a strictly increasing order. Apply the following algorithm on arr:\n",
    "Starting from left to right, remove the first number and every other number afterward until you reach the end of the list. Repeat the\n",
    "previous step again, but this time from right to left, remove the rightmost number and every other number from the remaining numbers.\n",
    "Keep repeating the steps again, alternating left to right and right to left, until a single number remains. Given the integer n, return the last\n",
    "number that remains in arr.\n",
    "```\n",
    "Example 1:\n",
    "Input: n = 9\n",
    "output: 6\n",
    "\n",
    "Explanation:\n",
    "arr = [1, 2,3, 4,5, 6,7, 8,9]\n",
    "arr = [2,4, 6,8]\n",
    "arr = [2, 6]\n",
    "arr = [6]\n",
    "\n",
    "Example 2:\n",
    "Input: n = 1\n",
    "Output: 1\n",
    "```"
   ]
  },
  {
   "cell_type": "code",
   "execution_count": 1,
   "id": "ef78f6f6",
   "metadata": {},
   "outputs": [
    {
     "name": "stdout",
     "output_type": "stream",
     "text": [
      "4\n"
     ]
    }
   ],
   "source": [
    "def lastRemaining(n):\n",
    "    leftToRight = True\n",
    "    remaining = n\n",
    "    step = 1\n",
    "    \n",
    "    while remaining > 1:\n",
    "        if leftToRight or remaining % 2 == 1:\n",
    "            step *= 2\n",
    "        remaining //= 2\n",
    "        leftToRight = not leftToRight\n",
    "    return step\n",
    "print(lastRemaining(9)) # Output: 6"
   ]
  },
  {
   "cell_type": "markdown",
   "id": "d71df208",
   "metadata": {},
   "source": [
    "#### Question 3 Given a set represented as a string, write a recursive code to print all subsets of it. The subsets can be printed in any order.\n",
    "```\n",
    "Example 1:\n",
    "Input : set = “abc”\n",
    "Output : { “”, “a”, “b”, “c”, “ab”, “ac”, “bc”, “abc”}\n",
    "\n",
    "Example 2:\n",
    "Input : set = “abcd”\n",
    "Output : { “”, “a” ,”ab” ,”abc” ,”abcd”, “abd” ,”ac” ,”acd”, “ad” ,”b”, “bc” ,”bcd” ,”bd” ,”c” ,”cd” ,”d” }\n",
    "```"
   ]
  },
  {
   "cell_type": "code",
   "execution_count": 3,
   "id": "0580bba4",
   "metadata": {},
   "outputs": [
    {
     "name": "stdout",
     "output_type": "stream",
     "text": [
      "{'', 'a', 'ab', 'c', 'bc', 'b', 'ac', 'abc'}\n",
      "{'', 'a', 'd', 'ad', 'bcd', 'bd', 'abcd', 'ab', 'c', 'acd', 'cd', 'bc', 'b', 'abc', 'ac', 'abd'}\n"
     ]
    }
   ],
   "source": [
    "def generateSubsets(s):\n",
    "    if len(s) == 0:\n",
    "        return {\"\"}\n",
    "    first = s[0]\n",
    "    subset = generateSubsets(s[1:])\n",
    "    result = set(subset)\n",
    "    for elem in subset:\n",
    "        result.add(first + elem)\n",
    "    return result\n",
    "\n",
    "print(generateSubsets(\"abc\"))\n",
    "# Output: {\"\", \"a\", \"b\", \"c\", \"ab\", \"ac\", \"bc\", \"abc\"}\n",
    "print(generateSubsets(\"abcd\"))\n",
    "# Output: {\"\", \"a\", \"ab\", \"abc\", \"abcd\", \"abd\", \"ac\", \"acd\", \"ad\", \"b\", \"bc\", \"bcd\", \"bd\", \"c\", \"cd\", \"d\"}"
   ]
  },
  {
   "cell_type": "markdown",
   "id": "e6ab492c",
   "metadata": {},
   "source": [
    "### Question 4 Given a string calculate length of the string using recursion.\n",
    "```\n",
    "Examples:\n",
    "Input : str = \"abcd\"\n",
    "Output :4\n",
    "\n",
    "Input : str = \"GEEKSFORGEEKS\"\n",
    "Output :13\n",
    "```"
   ]
  },
  {
   "cell_type": "code",
   "execution_count": 6,
   "id": "f71a1184",
   "metadata": {},
   "outputs": [
    {
     "name": "stdout",
     "output_type": "stream",
     "text": [
      "4\n",
      "0\n",
      "13\n"
     ]
    }
   ],
   "source": [
    "def calculateLength(s):\n",
    "    if s == \"\":\n",
    "        return 0\n",
    "    return 1 + calculateLength(s[1:])\n",
    "\n",
    "print(calculateLength(\"abcd\")) # Output: 4\n",
    "print(calculateLength(\"\")) # Output: 0\n",
    "print(calculateLength(\"GEEKSFORGEEKS\")) # Output: 13"
   ]
  },
  {
   "cell_type": "markdown",
   "id": "5d2d4eba",
   "metadata": {},
   "source": [
    "### Question 5 We are given a string S, we need to find count of all contiguous substrings starting and ending with same character.\n",
    "```\n",
    "Examples:\n",
    "Input : S = \"abcab\"\n",
    "Output : 7\n",
    "\n",
    "There are 15 substrings of \"abcab\"\n",
    "a, ab, abc, abca, abcab, b, bc, bca\n",
    "bcab, c, ca, cab, a, ab, b\n",
    "Out of the above substrings, there\n",
    "are 7 substrings : a, abca, b, bcab,\n",
    "c, a and b.\n",
    "\n",
    "Input : S = \"aba\"\n",
    "Output : 4\n",
    "The substrings are a, b, a and aba\n",
    "```"
   ]
  },
  {
   "cell_type": "code",
   "execution_count": 10,
   "id": "91a1c6ef",
   "metadata": {},
   "outputs": [
    {
     "name": "stdout",
     "output_type": "stream",
     "text": [
      "3\n",
      "6\n"
     ]
    }
   ],
   "source": [
    "def countSubstrings(S):\n",
    "    count = 0\n",
    "    for i in range(len(S)):\n",
    "        for j in range(i, len(S)):\n",
    "            if S[i] == S[j]:\n",
    "                count += 1\n",
    "    return count\n",
    "print(countSubstrings(\"abc\")) # Output: 3\n",
    "print(countSubstrings(\"aaa\")) # Output: 6"
   ]
  },
  {
   "cell_type": "markdown",
   "id": "31b99962",
   "metadata": {},
   "source": [
    "### Question 6 The tower of Hanoi is a famous puzzle where we have three rods and N disks. The objective of the puzzle is to move the entire stack to another rod. You are given the number of discs N. Initially, these discs are in the rod 1. You need to print all the steps of discs movement so that all the discs reach the 3rd rod. Also, you need to find the total moves.Note: The discs are arranged such that the top disc is numbered 1 and the bottom-most disc is numbered N. Also, all the discs have different sizes and a bigger disc cannot be put on the top of a smaller disc. Refer the provided link to get a better clarity about the puzzle.\n",
    "```\n",
    "Example 1:\n",
    "Input: N = 2\n",
    "Output:\n",
    "move disk 1 from rod 1 to rod 2\n",
    "move disk 2 from rod 1 to rod 3\n",
    "move disk 1 from rod 2 to rod 3\n",
    "3\n",
    "Explanation:For N=2 , steps will be as follows in the example and total 3 steps will be taken.\n",
    "\n",
    "Example 2:\n",
    "Input:\n",
    "N = 3\n",
    "Output:move disk 1 from rod 1 to rod 3\n",
    "\n",
    "move disk 2 from rod 1 to rod 2\n",
    "move disk 1 from rod 3 to rod 2\n",
    "move disk 3 from rod 1 to rod 3\n",
    "move disk 1 from rod 2 to rod 1\n",
    "move disk 2 from rod 2 to rod 3\n",
    "move disk 1 from rod 1 to rod 3\n",
    "7\n",
    "\n",
    "Explanation:For N=3 , steps will be as follows in the example and total 7 steps will be taken.\n",
    "```\n"
   ]
  },
  {
   "cell_type": "code",
   "execution_count": 13,
   "id": "8826fcc8",
   "metadata": {},
   "outputs": [
    {
     "name": "stdout",
     "output_type": "stream",
     "text": [
      "move disk 1 from rod 1 to rod 2\n",
      "move disk 2 from rod 1 to rod 3\n",
      "move disk 1 from rod 2 to rod 3\n",
      "3\n"
     ]
    }
   ],
   "source": [
    "def towerOfHanoi(N, source, destination, auxiliary):\n",
    "    if N == 1:\n",
    "        print(\"move disk 1 from rod\", source, \"to rod\", destination)\n",
    "        return 1\n",
    "    \n",
    "    moves = 0\n",
    "    moves += towerOfHanoi(N-1, source, auxiliary, destination)\n",
    "    print(\"move disk\", N, \"from rod\", source, \"to rod\", destination)\n",
    "    moves += 1\n",
    "    moves += towerOfHanoi(N-1, auxiliary, destination, source)\n",
    "    return moves\n",
    "\n",
    "N = 2\n",
    "totalMoves = towerOfHanoi(N, 1, 3, 2)\n",
    "print(totalMoves)\n"
   ]
  },
  {
   "cell_type": "markdown",
   "id": "d31bdb8b",
   "metadata": {},
   "source": [
    "### Question7 Given a string str, the task is to print all the permutations of str. A permutation is an arrangement of all or part of a set of objects, with regard to the order of the arrangement. For instance, the words ‘bat’ and ‘tab’ represents two distinct permutation (or arrangements) of a similar three letter word.\n",
    "```\n",
    "Examples:\n",
    "Input: str = “cd”\n",
    "Output: cd dc\n",
    "\n",
    "Input: str = “abb”\n",
    "Output: abb abb bab bba bab bba\n",
    "```"
   ]
  },
  {
   "cell_type": "code",
   "execution_count": 14,
   "id": "62f45cd3",
   "metadata": {},
   "outputs": [
    {
     "name": "stdout",
     "output_type": "stream",
     "text": [
      "['cd', 'dc']\n",
      "['abb', 'abb', 'bab', 'bba', 'bab', 'bba']\n"
     ]
    }
   ],
   "source": [
    "def permute(s):\n",
    "    if len(s) == 1:\n",
    "        return [s]\n",
    "    permutations = []\n",
    "    \n",
    "    for i, ch in enumerate(s):\n",
    "        remaining_chars = s[:i] + s[i+1:]\n",
    "        sub_permutations = permute(remaining_chars)\n",
    "        \n",
    "        for perm in sub_permutations:\n",
    "            permutations.append(ch + perm)\n",
    "    return permutations\n",
    "\n",
    "print(permute(\"cd\"))\n",
    "# Output: ['cd', 'dc']\n",
    "print(permute(\"abb\"))\n",
    "# Output: ['abb', 'bab', 'bba', 'abb', 'bab', 'bba']"
   ]
  },
  {
   "cell_type": "markdown",
   "id": "1d17b64a",
   "metadata": {},
   "source": [
    "### Question 8 Given a string, count total number of consonants in it. A consonant is an English alphabet character that is not vowel (a, e, i, o and u). Examples of constants are b, c, d, f, and g.\n",
    "```\n",
    "Examples : Input : abc de\n",
    "Output : 3\n",
    "\n",
    "There are three consonants b, c and d.\n",
    "\n",
    "Input : geeksforgeeks portal\n",
    "Output : 12\n",
    "```"
   ]
  },
  {
   "cell_type": "code",
   "execution_count": 17,
   "id": "95743461",
   "metadata": {},
   "outputs": [
    {
     "name": "stdout",
     "output_type": "stream",
     "text": [
      "3\n",
      "2\n",
      "12\n"
     ]
    }
   ],
   "source": [
    "def countConsonants(s):\n",
    "    count = 0\n",
    "    for ch in s:\n",
    "        if ch.isalpha() and ch.lower() not in ['a', 'e', 'i', 'o', 'u']:\n",
    "            count += 1\n",
    "    return count\n",
    "\n",
    "print(countConsonants(\"abc de\")) # Output: 3\n",
    "print(countConsonants(\"OpenAI\")) # Output: 2\n",
    "print(countConsonants(\"geeksforgeeks portal\")) # Output: 12\n"
   ]
  },
  {
   "cell_type": "code",
   "execution_count": null,
   "id": "a17a20f6",
   "metadata": {},
   "outputs": [],
   "source": []
  }
 ],
 "metadata": {
  "kernelspec": {
   "display_name": "Python 3 (ipykernel)",
   "language": "python",
   "name": "python3"
  },
  "language_info": {
   "codemirror_mode": {
    "name": "ipython",
    "version": 3
   },
   "file_extension": ".py",
   "mimetype": "text/x-python",
   "name": "python",
   "nbconvert_exporter": "python",
   "pygments_lexer": "ipython3",
   "version": "3.9.7"
  }
 },
 "nbformat": 4,
 "nbformat_minor": 5
}
